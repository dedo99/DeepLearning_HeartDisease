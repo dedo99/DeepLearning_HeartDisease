{
 "cells": [
  {
   "cell_type": "markdown",
   "id": "0edc8066",
   "metadata": {},
   "source": [
    "# Addestramento 1"
   ]
  },
  {
   "cell_type": "code",
   "execution_count": 3,
   "id": "7922fa54",
   "metadata": {},
   "outputs": [
    {
     "name": "stdout",
     "output_type": "stream",
     "text": [
      "Requirement already satisfied: d2l==1.0.0a1.post0 in c:\\users\\andre\\anaconda3\\lib\\site-packages (1.0.0a1.post0)\n",
      "Requirement already satisfied: numpy in c:\\users\\andre\\anaconda3\\lib\\site-packages (from d2l==1.0.0a1.post0) (1.20.3)\n",
      "Requirement already satisfied: matplotlib in c:\\users\\andre\\anaconda3\\lib\\site-packages (from d2l==1.0.0a1.post0) (3.4.3)\n",
      "Requirement already satisfied: pandas in c:\\users\\andre\\anaconda3\\lib\\site-packages (from d2l==1.0.0a1.post0) (1.3.4)\n",
      "Requirement already satisfied: gym in c:\\users\\andre\\anaconda3\\lib\\site-packages (from d2l==1.0.0a1.post0) (0.26.2)\n",
      "Requirement already satisfied: requests in c:\\users\\andre\\anaconda3\\lib\\site-packages (from d2l==1.0.0a1.post0) (2.26.0)\n",
      "Requirement already satisfied: matplotlib-inline in c:\\users\\andre\\appdata\\roaming\\python\\python39\\site-packages (from d2l==1.0.0a1.post0) (0.1.6)\n",
      "Requirement already satisfied: jupyter in c:\\users\\andre\\anaconda3\\lib\\site-packages (from d2l==1.0.0a1.post0) (1.0.0)\n",
      "Requirement already satisfied: gym-notices>=0.0.4 in c:\\users\\andre\\anaconda3\\lib\\site-packages (from gym->d2l==1.0.0a1.post0) (0.0.8)\n",
      "Requirement already satisfied: importlib-metadata>=4.8.0 in c:\\users\\andre\\anaconda3\\lib\\site-packages (from gym->d2l==1.0.0a1.post0) (4.8.1)\n",
      "Requirement already satisfied: cloudpickle>=1.2.0 in c:\\users\\andre\\anaconda3\\lib\\site-packages (from gym->d2l==1.0.0a1.post0) (2.0.0)\n",
      "Requirement already satisfied: zipp>=0.5 in c:\\users\\andre\\anaconda3\\lib\\site-packages (from importlib-metadata>=4.8.0->gym->d2l==1.0.0a1.post0) (3.6.0)\n",
      "Requirement already satisfied: notebook in c:\\users\\andre\\anaconda3\\lib\\site-packages (from jupyter->d2l==1.0.0a1.post0) (6.4.5)\n",
      "Requirement already satisfied: nbconvert in c:\\users\\andre\\anaconda3\\lib\\site-packages (from jupyter->d2l==1.0.0a1.post0) (6.1.0)\n",
      "Requirement already satisfied: jupyter-console in c:\\users\\andre\\anaconda3\\lib\\site-packages (from jupyter->d2l==1.0.0a1.post0) (6.4.0)\n",
      "Requirement already satisfied: qtconsole in c:\\users\\andre\\anaconda3\\lib\\site-packages (from jupyter->d2l==1.0.0a1.post0) (5.1.1)\n",
      "Requirement already satisfied: ipykernel in c:\\users\\andre\\appdata\\roaming\\python\\python39\\site-packages (from jupyter->d2l==1.0.0a1.post0) (6.17.1)\n",
      "Requirement already satisfied: ipywidgets in c:\\users\\andre\\anaconda3\\lib\\site-packages (from jupyter->d2l==1.0.0a1.post0) (7.6.5)\n",
      "Requirement already satisfied: psutil in c:\\users\\andre\\appdata\\roaming\\python\\python39\\site-packages (from ipykernel->jupyter->d2l==1.0.0a1.post0) (5.9.4)\n",
      "Requirement already satisfied: tornado>=6.1 in c:\\users\\andre\\appdata\\roaming\\python\\python39\\site-packages (from ipykernel->jupyter->d2l==1.0.0a1.post0) (6.2)\n",
      "Requirement already satisfied: jupyter-client>=6.1.12 in c:\\users\\andre\\appdata\\roaming\\python\\python39\\site-packages (from ipykernel->jupyter->d2l==1.0.0a1.post0) (7.4.8)\n",
      "Requirement already satisfied: ipython>=7.23.1 in c:\\users\\andre\\appdata\\roaming\\python\\python39\\site-packages (from ipykernel->jupyter->d2l==1.0.0a1.post0) (8.7.0)\n",
      "Requirement already satisfied: debugpy>=1.0 in c:\\users\\andre\\appdata\\roaming\\python\\python39\\site-packages (from ipykernel->jupyter->d2l==1.0.0a1.post0) (1.6.4)\n",
      "Requirement already satisfied: pyzmq>=17 in c:\\users\\andre\\appdata\\roaming\\python\\python39\\site-packages (from ipykernel->jupyter->d2l==1.0.0a1.post0) (24.0.1)\n",
      "Requirement already satisfied: traitlets>=5.1.0 in c:\\users\\andre\\appdata\\roaming\\python\\python39\\site-packages (from ipykernel->jupyter->d2l==1.0.0a1.post0) (5.6.0)\n",
      "Requirement already satisfied: packaging in c:\\users\\andre\\appdata\\roaming\\python\\python39\\site-packages (from ipykernel->jupyter->d2l==1.0.0a1.post0) (21.3)\n",
      "Requirement already satisfied: nest-asyncio in c:\\users\\andre\\appdata\\roaming\\python\\python39\\site-packages (from ipykernel->jupyter->d2l==1.0.0a1.post0) (1.5.6)\n",
      "Requirement already satisfied: decorator in c:\\users\\andre\\appdata\\roaming\\python\\python39\\site-packages (from ipython>=7.23.1->ipykernel->jupyter->d2l==1.0.0a1.post0) (5.1.1)\n",
      "Requirement already satisfied: jedi>=0.16 in c:\\users\\andre\\appdata\\roaming\\python\\python39\\site-packages (from ipython>=7.23.1->ipykernel->jupyter->d2l==1.0.0a1.post0) (0.18.2)\n",
      "Requirement already satisfied: colorama in c:\\users\\andre\\appdata\\roaming\\python\\python39\\site-packages (from ipython>=7.23.1->ipykernel->jupyter->d2l==1.0.0a1.post0) (0.4.6)\n",
      "Requirement already satisfied: prompt-toolkit<3.1.0,>=3.0.11 in c:\\users\\andre\\appdata\\roaming\\python\\python39\\site-packages (from ipython>=7.23.1->ipykernel->jupyter->d2l==1.0.0a1.post0) (3.0.36)\n",
      "Requirement already satisfied: stack-data in c:\\users\\andre\\appdata\\roaming\\python\\python39\\site-packages (from ipython>=7.23.1->ipykernel->jupyter->d2l==1.0.0a1.post0) (0.6.2)\n",
      "Requirement already satisfied: backcall in c:\\users\\andre\\appdata\\roaming\\python\\python39\\site-packages (from ipython>=7.23.1->ipykernel->jupyter->d2l==1.0.0a1.post0) (0.2.0)\n",
      "Requirement already satisfied: pickleshare in c:\\users\\andre\\appdata\\roaming\\python\\python39\\site-packages (from ipython>=7.23.1->ipykernel->jupyter->d2l==1.0.0a1.post0) (0.7.5)\n",
      "Requirement already satisfied: pygments>=2.4.0 in c:\\users\\andre\\appdata\\roaming\\python\\python39\\site-packages (from ipython>=7.23.1->ipykernel->jupyter->d2l==1.0.0a1.post0) (2.13.0)\n",
      "Requirement already satisfied: parso<0.9.0,>=0.8.0 in c:\\users\\andre\\appdata\\roaming\\python\\python39\\site-packages (from jedi>=0.16->ipython>=7.23.1->ipykernel->jupyter->d2l==1.0.0a1.post0) (0.8.3)\n",
      "Requirement already satisfied: entrypoints in c:\\users\\andre\\appdata\\roaming\\python\\python39\\site-packages (from jupyter-client>=6.1.12->ipykernel->jupyter->d2l==1.0.0a1.post0) (0.4)\n",
      "Requirement already satisfied: jupyter-core>=4.9.2 in c:\\users\\andre\\appdata\\roaming\\python\\python39\\site-packages (from jupyter-client>=6.1.12->ipykernel->jupyter->d2l==1.0.0a1.post0) (5.1.0)\n",
      "Requirement already satisfied: python-dateutil>=2.8.2 in c:\\users\\andre\\appdata\\roaming\\python\\python39\\site-packages (from jupyter-client>=6.1.12->ipykernel->jupyter->d2l==1.0.0a1.post0) (2.8.2)\n",
      "Requirement already satisfied: platformdirs>=2.5 in c:\\users\\andre\\appdata\\roaming\\python\\python39\\site-packages (from jupyter-core>=4.9.2->jupyter-client>=6.1.12->ipykernel->jupyter->d2l==1.0.0a1.post0) (2.6.0)\n",
      "Requirement already satisfied: pywin32>=1.0 in c:\\users\\andre\\appdata\\roaming\\python\\python39\\site-packages (from jupyter-core>=4.9.2->jupyter-client>=6.1.12->ipykernel->jupyter->d2l==1.0.0a1.post0) (305)\n",
      "Requirement already satisfied: wcwidth in c:\\users\\andre\\appdata\\roaming\\python\\python39\\site-packages (from prompt-toolkit<3.1.0,>=3.0.11->ipython>=7.23.1->ipykernel->jupyter->d2l==1.0.0a1.post0) (0.2.5)\n",
      "Requirement already satisfied: six>=1.5 in c:\\users\\andre\\appdata\\roaming\\python\\python39\\site-packages (from python-dateutil>=2.8.2->jupyter-client>=6.1.12->ipykernel->jupyter->d2l==1.0.0a1.post0) (1.16.0)\n",
      "Requirement already satisfied: widgetsnbextension~=3.5.0 in c:\\users\\andre\\anaconda3\\lib\\site-packages (from ipywidgets->jupyter->d2l==1.0.0a1.post0) (3.5.1)\n",
      "Requirement already satisfied: ipython-genutils~=0.2.0 in c:\\users\\andre\\anaconda3\\lib\\site-packages (from ipywidgets->jupyter->d2l==1.0.0a1.post0) (0.2.0)\n",
      "Requirement already satisfied: nbformat>=4.2.0 in c:\\users\\andre\\anaconda3\\lib\\site-packages (from ipywidgets->jupyter->d2l==1.0.0a1.post0) (5.1.3)\n",
      "Requirement already satisfied: jupyterlab-widgets>=1.0.0 in c:\\users\\andre\\anaconda3\\lib\\site-packages (from ipywidgets->jupyter->d2l==1.0.0a1.post0) (1.0.0)\n",
      "Requirement already satisfied: jsonschema!=2.5.0,>=2.4 in c:\\users\\andre\\anaconda3\\lib\\site-packages (from nbformat>=4.2.0->ipywidgets->jupyter->d2l==1.0.0a1.post0) (3.2.0)\n",
      "Requirement already satisfied: pyrsistent>=0.14.0 in c:\\users\\andre\\anaconda3\\lib\\site-packages (from jsonschema!=2.5.0,>=2.4->nbformat>=4.2.0->ipywidgets->jupyter->d2l==1.0.0a1.post0) (0.18.0)\n",
      "Requirement already satisfied: setuptools in c:\\users\\andre\\anaconda3\\lib\\site-packages (from jsonschema!=2.5.0,>=2.4->nbformat>=4.2.0->ipywidgets->jupyter->d2l==1.0.0a1.post0) (58.0.4)\n",
      "Requirement already satisfied: attrs>=17.4.0 in c:\\users\\andre\\anaconda3\\lib\\site-packages (from jsonschema!=2.5.0,>=2.4->nbformat>=4.2.0->ipywidgets->jupyter->d2l==1.0.0a1.post0) (21.2.0)\n",
      "Requirement already satisfied: jinja2 in c:\\users\\andre\\anaconda3\\lib\\site-packages (from notebook->jupyter->d2l==1.0.0a1.post0) (2.11.3)\n",
      "Requirement already satisfied: Send2Trash>=1.5.0 in c:\\users\\andre\\anaconda3\\lib\\site-packages (from notebook->jupyter->d2l==1.0.0a1.post0) (1.8.0)\n",
      "Requirement already satisfied: argon2-cffi in c:\\users\\andre\\anaconda3\\lib\\site-packages (from notebook->jupyter->d2l==1.0.0a1.post0) (20.1.0)\n",
      "Requirement already satisfied: prometheus-client in c:\\users\\andre\\anaconda3\\lib\\site-packages (from notebook->jupyter->d2l==1.0.0a1.post0) (0.11.0)\n",
      "Requirement already satisfied: terminado>=0.8.3 in c:\\users\\andre\\anaconda3\\lib\\site-packages (from notebook->jupyter->d2l==1.0.0a1.post0) (0.9.4)\n",
      "Requirement already satisfied: pywinpty>=0.5 in c:\\users\\andre\\anaconda3\\lib\\site-packages (from terminado>=0.8.3->notebook->jupyter->d2l==1.0.0a1.post0) (0.5.7)\n",
      "Requirement already satisfied: cffi>=1.0.0 in c:\\users\\andre\\anaconda3\\lib\\site-packages (from argon2-cffi->notebook->jupyter->d2l==1.0.0a1.post0) (1.14.6)\n",
      "Requirement already satisfied: pycparser in c:\\users\\andre\\anaconda3\\lib\\site-packages (from cffi>=1.0.0->argon2-cffi->notebook->jupyter->d2l==1.0.0a1.post0) (2.20)\n",
      "Requirement already satisfied: MarkupSafe>=0.23 in c:\\users\\andre\\anaconda3\\lib\\site-packages (from jinja2->notebook->jupyter->d2l==1.0.0a1.post0) (1.1.1)\n",
      "Requirement already satisfied: pyparsing>=2.2.1 in c:\\users\\andre\\appdata\\roaming\\python\\python39\\site-packages (from matplotlib->d2l==1.0.0a1.post0) (3.0.9)\n",
      "Requirement already satisfied: pillow>=6.2.0 in c:\\users\\andre\\anaconda3\\lib\\site-packages (from matplotlib->d2l==1.0.0a1.post0) (8.4.0)\n",
      "Requirement already satisfied: cycler>=0.10 in c:\\users\\andre\\anaconda3\\lib\\site-packages (from matplotlib->d2l==1.0.0a1.post0) (0.10.0)\n",
      "Requirement already satisfied: kiwisolver>=1.0.1 in c:\\users\\andre\\anaconda3\\lib\\site-packages (from matplotlib->d2l==1.0.0a1.post0) (1.3.1)\n",
      "Requirement already satisfied: mistune<2,>=0.8.1 in c:\\users\\andre\\anaconda3\\lib\\site-packages (from nbconvert->jupyter->d2l==1.0.0a1.post0) (0.8.4)\n",
      "Requirement already satisfied: nbclient<0.6.0,>=0.5.0 in c:\\users\\andre\\anaconda3\\lib\\site-packages (from nbconvert->jupyter->d2l==1.0.0a1.post0) (0.5.3)\n",
      "Requirement already satisfied: bleach in c:\\users\\andre\\anaconda3\\lib\\site-packages (from nbconvert->jupyter->d2l==1.0.0a1.post0) (4.0.0)\n",
      "Requirement already satisfied: pandocfilters>=1.4.1 in c:\\users\\andre\\anaconda3\\lib\\site-packages (from nbconvert->jupyter->d2l==1.0.0a1.post0) (1.4.3)\n",
      "Requirement already satisfied: jupyterlab-pygments in c:\\users\\andre\\anaconda3\\lib\\site-packages (from nbconvert->jupyter->d2l==1.0.0a1.post0) (0.1.2)\n",
      "Requirement already satisfied: testpath in c:\\users\\andre\\anaconda3\\lib\\site-packages (from nbconvert->jupyter->d2l==1.0.0a1.post0) (0.5.0)\n",
      "Requirement already satisfied: defusedxml in c:\\users\\andre\\anaconda3\\lib\\site-packages (from nbconvert->jupyter->d2l==1.0.0a1.post0) (0.7.1)\n",
      "Requirement already satisfied: async-generator in c:\\users\\andre\\anaconda3\\lib\\site-packages (from nbclient<0.6.0,>=0.5.0->nbconvert->jupyter->d2l==1.0.0a1.post0) (1.10)\n",
      "Requirement already satisfied: webencodings in c:\\users\\andre\\anaconda3\\lib\\site-packages (from bleach->nbconvert->jupyter->d2l==1.0.0a1.post0) (0.5.1)\n",
      "Requirement already satisfied: pytz>=2017.3 in c:\\users\\andre\\anaconda3\\lib\\site-packages (from pandas->d2l==1.0.0a1.post0) (2021.3)\n",
      "Requirement already satisfied: qtpy in c:\\users\\andre\\anaconda3\\lib\\site-packages (from qtconsole->jupyter->d2l==1.0.0a1.post0) (1.10.0)\n",
      "Requirement already satisfied: charset-normalizer~=2.0.0 in c:\\users\\andre\\anaconda3\\lib\\site-packages (from requests->d2l==1.0.0a1.post0) (2.0.4)\n",
      "Requirement already satisfied: urllib3<1.27,>=1.21.1 in c:\\users\\andre\\anaconda3\\lib\\site-packages (from requests->d2l==1.0.0a1.post0) (1.26.7)\n",
      "Requirement already satisfied: certifi>=2017.4.17 in c:\\users\\andre\\anaconda3\\lib\\site-packages (from requests->d2l==1.0.0a1.post0) (2021.10.8)\n",
      "Requirement already satisfied: idna<4,>=2.5 in c:\\users\\andre\\anaconda3\\lib\\site-packages (from requests->d2l==1.0.0a1.post0) (3.2)\n",
      "Requirement already satisfied: executing>=1.2.0 in c:\\users\\andre\\appdata\\roaming\\python\\python39\\site-packages (from stack-data->ipython>=7.23.1->ipykernel->jupyter->d2l==1.0.0a1.post0) (1.2.0)\n",
      "Requirement already satisfied: asttokens>=2.1.0 in c:\\users\\andre\\appdata\\roaming\\python\\python39\\site-packages (from stack-data->ipython>=7.23.1->ipykernel->jupyter->d2l==1.0.0a1.post0) (2.2.1)\n",
      "Requirement already satisfied: pure-eval in c:\\users\\andre\\appdata\\roaming\\python\\python39\\site-packages (from stack-data->ipython>=7.23.1->ipykernel->jupyter->d2l==1.0.0a1.post0) (0.2.2)\n"
     ]
    }
   ],
   "source": [
    "import tensorflow as tf\n",
    "from keras.legacy_tf_layers.convolutional import Conv1D\n",
    "from tensorflow import keras\n",
    "import pandas as pd\n",
    "!pip install d2l==1.0.0a1.post0\n",
    "from d2l import tensorflow as d2\n",
    "import tensorflow as tf\n",
    "from tensorflow import keras\n",
    "from tensorflow.keras.layers import Input, Dense, concatenate\n",
    "from tensorflow.keras.models import Model\n",
    "from tensorflow.keras.utils import plot_model\n",
    "from sklearn.model_selection import train_test_split"
   ]
  },
  {
   "cell_type": "code",
   "execution_count": 2,
   "id": "f072ba96",
   "metadata": {},
   "outputs": [
    {
     "name": "stdout",
     "output_type": "stream",
     "text": [
      "Model: \"sequential\"\n",
      "_________________________________________________________________\n",
      " Layer (type)                Output Shape              Param #   \n",
      "=================================================================\n",
      " conv1d (Conv1D)             (None, 296, 64)           384       \n",
      "                                                                 \n",
      " conv1d_1 (Conv1D)           (None, 292, 64)           20544     \n",
      "                                                                 \n",
      " max_pooling1d (MaxPooling1D  (None, 146, 64)          0         \n",
      " )                                                               \n",
      "                                                                 \n",
      " conv1d_2 (Conv1D)           (None, 144, 128)          24704     \n",
      "                                                                 \n",
      " conv1d_3 (Conv1D)           (None, 142, 128)          49280     \n",
      "                                                                 \n",
      " max_pooling1d_1 (MaxPooling  (None, 71, 128)          0         \n",
      " 1D)                                                             \n",
      "                                                                 \n",
      " flatten (Flatten)           (None, 9088)              0         \n",
      "                                                                 \n",
      " dense (Dense)               (None, 256)               2326784   \n",
      "                                                                 \n",
      " dense_1 (Dense)             (None, 128)               32896     \n",
      "                                                                 \n",
      " dense_2 (Dense)             (None, 5)                 645       \n",
      "                                                                 \n",
      "=================================================================\n",
      "Total params: 2,455,237\n",
      "Trainable params: 2,455,237\n",
      "Non-trainable params: 0\n",
      "_________________________________________________________________\n"
     ]
    }
   ],
   "source": [
    "model = keras.models.Sequential([\n",
    "keras.layers.Conv1D(filters=64, kernel_size=5, strides=1, padding=\"valid\", input_shape=[300, 1]),\n",
    "keras.layers.Conv1D(filters=64, kernel_size=5, strides=1, padding=\"valid\"),\n",
    "keras.layers.MaxPooling1D(pool_size=2, strides=2),\n",
    "keras.layers.Conv1D(filters=128, kernel_size=3, strides=1, padding=\"valid\"),\n",
    "keras.layers.Conv1D(filters=128, kernel_size=3, strides=1, padding=\"valid\"),\n",
    "keras.layers.MaxPooling1D(pool_size=2, strides=2),\n",
    "keras.layers.Flatten(),\n",
    "keras.layers.Dense(256, activation=tf.nn.relu),\n",
    "keras.layers.Dense(128, activation=tf.nn.relu),\n",
    "keras.layers.Dense(5, activation=tf.nn.softmax)\n",
    "])\n",
    "\n",
    "model.summary()"
   ]
  },
  {
   "cell_type": "code",
   "execution_count": 3,
   "id": "74c9aee4",
   "metadata": {},
   "outputs": [
    {
     "ename": "NameError",
     "evalue": "name 'x_train' is not defined",
     "output_type": "error",
     "traceback": [
      "\u001B[1;31m---------------------------------------------------------------------------\u001B[0m",
      "\u001B[1;31mNameError\u001B[0m                                 Traceback (most recent call last)",
      "Cell \u001B[1;32mIn[3], line 2\u001B[0m\n\u001B[0;32m      1\u001B[0m model\u001B[38;5;241m.\u001B[39mcompile(optimizer\u001B[38;5;241m=\u001B[39m\u001B[38;5;124m'\u001B[39m\u001B[38;5;124madam\u001B[39m\u001B[38;5;124m'\u001B[39m, loss\u001B[38;5;241m=\u001B[39m\u001B[38;5;124m'\u001B[39m\u001B[38;5;124msparse_categorical_crossentropy\u001B[39m\u001B[38;5;124m'\u001B[39m, metrics\u001B[38;5;241m=\u001B[39m[\u001B[38;5;124m'\u001B[39m\u001B[38;5;124maccuracy\u001B[39m\u001B[38;5;124m'\u001B[39m])\n\u001B[1;32m----> 2\u001B[0m model\u001B[38;5;241m.\u001B[39mfit(x\u001B[38;5;241m=\u001B[39m\u001B[43mx_train\u001B[49m, y\u001B[38;5;241m=\u001B[39my_train, epochs\u001B[38;5;241m=\u001B[39m\u001B[38;5;241m3\u001B[39m)\n\u001B[0;32m      4\u001B[0m test_error_rate \u001B[38;5;241m=\u001B[39m model\u001B[38;5;241m.\u001B[39mevaluate(x_test, y_test, verbose\u001B[38;5;241m=\u001B[39m\u001B[38;5;241m0\u001B[39m)\n",
      "\u001B[1;31mNameError\u001B[0m: name 'x_train' is not defined"
     ]
    }
   ],
   "source": [
    "model.compile(optimizer='adam', loss='sparse_categorical_crossentropy', metrics=['accuracy'])\n",
    "model.fit(x=x_train, y=y_train, epochs=3)\n",
    "\n",
    "test_error_rate = model.evaluate(x_test, y_test, verbose=0)"
   ]
  },
  {
   "cell_type": "markdown",
   "id": "1dbfbef5",
   "metadata": {},
   "source": [
    "# Addestramento 2"
   ]
  },
  {
   "cell_type": "code",
   "execution_count": 1,
   "outputs": [
    {
     "name": "stderr",
     "output_type": "stream",
     "text": [
      "C:\\Users\\andre\\anaconda3\\lib\\site-packages\\requests\\__init__.py:102: RequestsDependencyWarning: urllib3 (1.26.7) or chardet (5.1.0)/charset_normalizer (2.0.4) doesn't match a supported version!\n",
      "  warnings.warn(\"urllib3 ({}) or chardet ({})/charset_normalizer ({}) doesn't match a supported \"\n"
     ]
    },
    {
     "name": "stdout",
     "output_type": "stream",
     "text": [
      "Model: \"merged model\"\n",
      "__________________________________________________________________________________________________\n",
      " Layer (type)                   Output Shape         Param #     Connected to                     \n",
      "==================================================================================================\n",
      " Input_tot (InputLayer)         [(None, 251, 1)]     0           []                               \n",
      "                                                                                                  \n",
      " branch1_1 (Conv1D)             (None, 248, 8)       40          ['Input_tot[0][0]']              \n",
      "                                                                                                  \n",
      " branch2_1 (Conv1D)             (None, 246, 8)       56          ['Input_tot[0][0]']              \n",
      "                                                                                                  \n",
      " branch3_1 (Conv1D)             (None, 244, 8)       72          ['Input_tot[0][0]']              \n",
      "                                                                                                  \n",
      " branch1_2 (MaxPooling1D)       (None, 124, 8)       0           ['branch1_1[0][0]']              \n",
      "                                                                                                  \n",
      " branch2_2 (MaxPooling1D)       (None, 123, 8)       0           ['branch2_1[0][0]']              \n",
      "                                                                                                  \n",
      " branch3_2 (MaxPooling1D)       (None, 122, 8)       0           ['branch3_1[0][0]']              \n",
      "                                                                                                  \n",
      " branch1_3 (Conv1D)             (None, 119, 24)      1176        ['branch1_2[0][0]']              \n",
      "                                                                                                  \n",
      " branch2_3 (Conv1D)             (None, 116, 24)      1560        ['branch2_2[0][0]']              \n",
      "                                                                                                  \n",
      " branch3_3 (Conv1D)             (None, 113, 24)      1944        ['branch3_2[0][0]']              \n",
      "                                                                                                  \n",
      " branch1_4 (MaxPooling1D)       (None, 59, 24)       0           ['branch1_3[0][0]']              \n",
      "                                                                                                  \n",
      " branch2_4 (MaxPooling1D)       (None, 58, 24)       0           ['branch2_3[0][0]']              \n",
      "                                                                                                  \n",
      " branch3_4 (MaxPooling1D)       (None, 56, 24)       0           ['branch3_3[0][0]']              \n",
      "                                                                                                  \n",
      " concatenated_layer (Concatenat  (None, 173, 24)     0           ['branch1_4[0][0]',              \n",
      " e)                                                               'branch2_4[0][0]',              \n",
      "                                                                  'branch3_4[0][0]']              \n",
      "                                                                                                  \n",
      " dense1 (Dense)                 (None, 173, 256)     6400        ['concatenated_layer[0][0]']     \n",
      "                                                                                                  \n",
      " dense2 (Dense)                 (None, 173, 32)      8224        ['dense1[0][0]']                 \n",
      "                                                                                                  \n",
      " output_layer (Dense)           (None, 173, 4)       132         ['dense2[0][0]']                 \n",
      "                                                                                                  \n",
      "==================================================================================================\n",
      "Total params: 19,604\n",
      "Trainable params: 19,604\n",
      "Non-trainable params: 0\n",
      "__________________________________________________________________________________________________\n",
      "You must install pydot (`pip install pydot`) and install graphviz (see instructions at https://graphviz.gitlab.io/download/) for plot_model to work.\n"
     ]
    }
   ],
   "source": [
    "import tensorflow as tf\n",
    "from tensorflow import keras\n",
    "from tensorflow.keras.layers import Input, Dense, concatenate\n",
    "from tensorflow.keras.models import Model\n",
    "from tensorflow.keras.utils import plot_model\n",
    "\n",
    "\n",
    "\n",
    "input_tot = Input(shape=(251, 1), name =\"Input_tot\")\n",
    "\n",
    "# Pipeline 1\n",
    "branch1_1 = keras.layers.Conv1D(filters=8, kernel_size=4, activation='relu', name =\"branch1_1\")(input_tot)\n",
    "branch1_2 = keras.layers.MaxPooling1D(pool_size=2, strides=2, name =\"branch1_2\")(branch1_1)\n",
    "branch1_3 = keras.layers.Conv1D(filters=24, kernel_size=6, activation='relu', name =\"branch1_3\")(branch1_2)\n",
    "branch1_4 = keras.layers.MaxPooling1D(pool_size=2, strides=2, name =\"branch1_4\")(branch1_3)\n",
    "\n",
    "# Pipeline 2\n",
    "branch2_1 = keras.layers.Conv1D(filters=8, kernel_size=6, activation='relu', name =\"branch2_1\")(input_tot)\n",
    "branch2_2 = keras.layers.MaxPooling1D(pool_size=2, strides=2, name =\"branch2_2\")(branch2_1)\n",
    "branch2_3 = keras.layers.Conv1D(filters=24, kernel_size=8, activation='relu', name =\"branch2_3\")(branch2_2)\n",
    "branch2_4 = keras.layers.MaxPooling1D(pool_size=2, strides=2, name =\"branch2_4\")(branch2_3)\n",
    "\n",
    "# Pipeline 3\n",
    "branch3_1 = keras.layers.Conv1D(filters=8, kernel_size=8, activation='relu', name =\"branch3_1\")(input_tot)\n",
    "branch3_2 = keras.layers.MaxPooling1D(pool_size=2, strides=2, name =\"branch3_2\")(branch3_1)\n",
    "branch3_3 = keras.layers.Conv1D(filters=24, kernel_size=10, activation='relu', name =\"branch3_3\")(branch3_2)\n",
    "branch3_4 = keras.layers.MaxPooling1D(pool_size=2, strides=2, name =\"branch3_4\")(branch3_3)\n",
    "\n",
    "#Merging tre pipeline\n",
    "branch_concatenate = concatenate([branch1_4,branch2_4,branch3_4], axis=1, name=\"concatenated_layer\")\n",
    "\n",
    "#Final Layer\n",
    "dense1 = Dense(256, activation = \"sigmoid\", name = \"dense1\")(branch_concatenate)\n",
    "dense2 = Dense(32, activation = \"sigmoid\", name = \"dense2\")(dense1)\n",
    "output_layer = Dense(4, activation = \"sigmoid\", name = \"output_layer\")(dense2)\n",
    "\n",
    "#Model Definition\n",
    "merged = Model(inputs=[input_tot],outputs=[output_layer], name = \"merged model\")\n",
    "\n",
    "#Model Details\n",
    "merged.summary()\n",
    "keras.utils.plot_model(merged, \"output/architecture.png\", show_shapes=True)"
   ],
   "metadata": {
    "collapsed": false
   }
  },
  {
   "cell_type": "code",
   "execution_count": 8,
   "outputs": [
    {
     "data": {
      "text/plain": "                                              signal annotypes\n0  [-0.265 -0.27  -0.265 -0.26  -0.275 -0.28  -0....         N",
      "text/html": "<div>\n<style scoped>\n    .dataframe tbody tr th:only-of-type {\n        vertical-align: middle;\n    }\n\n    .dataframe tbody tr th {\n        vertical-align: top;\n    }\n\n    .dataframe thead th {\n        text-align: right;\n    }\n</style>\n<table border=\"1\" class=\"dataframe\">\n  <thead>\n    <tr style=\"text-align: right;\">\n      <th></th>\n      <th>signal</th>\n      <th>annotypes</th>\n    </tr>\n  </thead>\n  <tbody>\n    <tr>\n      <th>0</th>\n      <td>[-0.265 -0.27  -0.265 -0.26  -0.275 -0.28  -0....</td>\n      <td>N</td>\n    </tr>\n  </tbody>\n</table>\n</div>"
     },
     "execution_count": 8,
     "metadata": {},
     "output_type": "execute_result"
    }
   ],
   "source": [
    "df = pd.read_csv('heartbeats/heartbeats_datasets.csv')\n",
    "\n",
    "df.head(1)"
   ],
   "metadata": {
    "collapsed": false
   }
  },
  {
   "cell_type": "markdown",
   "source": [
    "# Addestramento 3"
   ],
   "metadata": {
    "collapsed": false
   }
  },
  {
   "cell_type": "code",
   "execution_count": 47,
   "outputs": [],
   "source": [
    "from tensorflow.keras.models import Sequential\n",
    "from tensorflow.keras.layers import LSTM, Dense, Dropout\n",
    "\n",
    "def create_lstm_model(input_shape, num_classes):\n",
    "    model = Sequential()\n",
    "    model.add(LSTM(128, input_shape=input_shape, return_sequences=True))\n",
    "    model.add(Dropout(0.2))\n",
    "    model.add(LSTM(128))\n",
    "    model.add(Dropout(0.2))\n",
    "    model.add(Dense(num_classes, activation='softmax'))\n",
    "    model.compile(loss='categorical_crossentropy', optimizer='adam', metrics=['accuracy'])\n",
    "    return model\n",
    "\n"
   ],
   "metadata": {
    "collapsed": false
   }
  },
  {
   "cell_type": "code",
   "execution_count": 48,
   "outputs": [
    {
     "name": "stdout",
     "output_type": "stream",
     "text": [
      "Model: \"sequential_4\"\n",
      "_________________________________________________________________\n",
      " Layer (type)                Output Shape              Param #   \n",
      "=================================================================\n",
      " lstm_9 (LSTM)               (None, 251, 128)          66560     \n",
      "                                                                 \n",
      " dropout_4 (Dropout)         (None, 251, 128)          0         \n",
      "                                                                 \n",
      " lstm_10 (LSTM)              (None, 128)               131584    \n",
      "                                                                 \n",
      " dropout_5 (Dropout)         (None, 128)               0         \n",
      "                                                                 \n",
      " dense_4 (Dense)             (None, 2)                 258       \n",
      "                                                                 \n",
      "=================================================================\n",
      "Total params: 198,402\n",
      "Trainable params: 198,402\n",
      "Non-trainable params: 0\n",
      "_________________________________________________________________\n"
     ]
    }
   ],
   "source": [
    "input = (251, 1)\n",
    "model = create_lstm_model(input, 2)\n",
    "model.summary()"
   ],
   "metadata": {
    "collapsed": false
   }
  },
  {
   "cell_type": "markdown",
   "source": [
    "# Addestramento 4"
   ],
   "metadata": {
    "collapsed": false
   }
  },
  {
   "cell_type": "code",
   "execution_count": 59,
   "outputs": [],
   "source": [
    "from keras.layers import Input, Conv1D, BatchNormalization, Activation, MaxPooling1D, LSTM, GlobalAveragePooling1D, Dense, Reshape\n",
    "from keras.models import Model\n",
    "\n",
    "def create_model(input_shape, n_classes):\n",
    "    inputs = Input(shape=input_shape)\n",
    "\n",
    "    x = Conv1D(32, kernel_size=3, strides=1, padding='same')(inputs)\n",
    "    x = BatchNormalization()(x)\n",
    "    x = Activation('swish')(x)\n",
    "\n",
    "    x = Conv1D(64, kernel_size=3, strides=1, padding='same')(x)\n",
    "    x = BatchNormalization()(x)\n",
    "    x = Activation('swish')(x)\n",
    "\n",
    "    x = Conv1D(128, kernel_size=3, strides=1, padding='same')(x)\n",
    "    x = BatchNormalization()(x)\n",
    "    x = Activation('swish')(x)\n",
    "\n",
    "    x = MaxPooling1D(pool_size=2, strides=2, padding='same')(x)\n",
    "\n",
    "    print(x)\n",
    "\n",
    "\n",
    "\n",
    "    x = LSTM(128, return_sequences=True, go_backwards=False, dropout=0.5)(x)\n",
    "    x = LSTM(128, return_sequences=False, go_backwards=True, dropout=0.5)(x)\n",
    "\n",
    "    x = Reshape((-1, 128))(x)\n",
    "\n",
    "    x = GlobalAveragePooling1D()(x)\n",
    "\n",
    "    outputs = Dense(n_classes, activation='softmax')(x)\n",
    "\n",
    "    model = Model(inputs=inputs, outputs=outputs)\n",
    "\n",
    "    return model\n"
   ],
   "metadata": {
    "collapsed": false
   }
  },
  {
   "cell_type": "code",
   "execution_count": 60,
   "outputs": [
    {
     "name": "stdout",
     "output_type": "stream",
     "text": [
      "KerasTensor(type_spec=TensorSpec(shape=(None, 126, 128), dtype=tf.float32, name=None), name='max_pooling1d_5/Squeeze:0', description=\"created by layer 'max_pooling1d_5'\")\n",
      "Model: \"model_7\"\n",
      "_________________________________________________________________\n",
      " Layer (type)                Output Shape              Param #   \n",
      "=================================================================\n",
      " input_9 (InputLayer)        [(None, 251, 1)]          0         \n",
      "                                                                 \n",
      " conv1d_19 (Conv1D)          (None, 251, 32)           128       \n",
      "                                                                 \n",
      " batch_normalization_15 (Bat  (None, 251, 32)          128       \n",
      " chNormalization)                                                \n",
      "                                                                 \n",
      " activation_15 (Activation)  (None, 251, 32)           0         \n",
      "                                                                 \n",
      " conv1d_20 (Conv1D)          (None, 251, 64)           6208      \n",
      "                                                                 \n",
      " batch_normalization_16 (Bat  (None, 251, 64)          256       \n",
      " chNormalization)                                                \n",
      "                                                                 \n",
      " activation_16 (Activation)  (None, 251, 64)           0         \n",
      "                                                                 \n",
      " conv1d_21 (Conv1D)          (None, 251, 128)          24704     \n",
      "                                                                 \n",
      " batch_normalization_17 (Bat  (None, 251, 128)         512       \n",
      " chNormalization)                                                \n",
      "                                                                 \n",
      " activation_17 (Activation)  (None, 251, 128)          0         \n",
      "                                                                 \n",
      " max_pooling1d_5 (MaxPooling  (None, 126, 128)         0         \n",
      " 1D)                                                             \n",
      "                                                                 \n",
      " lstm_21 (LSTM)              (None, 126, 128)          131584    \n",
      "                                                                 \n",
      " lstm_22 (LSTM)              (None, 128)               131584    \n",
      "                                                                 \n",
      " reshape_2 (Reshape)         (None, 1, 128)            0         \n",
      "                                                                 \n",
      " global_average_pooling1d_7   (None, 128)              0         \n",
      " (GlobalAveragePooling1D)                                        \n",
      "                                                                 \n",
      " dense_5 (Dense)             (None, 2)                 258       \n",
      "                                                                 \n",
      "=================================================================\n",
      "Total params: 295,362\n",
      "Trainable params: 294,914\n",
      "Non-trainable params: 448\n",
      "_________________________________________________________________\n"
     ]
    }
   ],
   "source": [
    "input = (251, 1)\n",
    "model = create_model(input, 2)\n",
    "model.summary()"
   ],
   "metadata": {
    "collapsed": false
   }
  },
  {
   "cell_type": "code",
   "execution_count": null,
   "outputs": [],
   "source": [],
   "metadata": {
    "collapsed": false
   }
  },
  {
   "cell_type": "code",
   "execution_count": 3,
   "outputs": [
    {
     "name": "stdout",
     "output_type": "stream",
     "text": [
      "Collecting torch\n",
      "  Downloading torch-1.13.1-cp39-cp39-win_amd64.whl (162.5 MB)\n",
      "Requirement already satisfied: typing-extensions in c:\\users\\andre\\anaconda3\\lib\\site-packages (from torch) (4.4.0)\n",
      "Installing collected packages: torch\n",
      "Successfully installed torch-1.13.1\n"
     ]
    }
   ],
   "source": [
    "!pip install torch"
   ],
   "metadata": {
    "collapsed": false
   }
  },
  {
   "cell_type": "code",
   "execution_count": 23,
   "outputs": [],
   "source": [
    "import matplotlib.pyplot as plt\n",
    "import torch\n",
    "import torch.nn as nn\n",
    "import torch.nn.functional as F\n",
    "from torch.utils.data import Dataset, DataLoader\n",
    "from torch.optim import AdamW\n",
    "from torch.optim.lr_scheduler import (CosineAnnealingLR,\n",
    "                                      CosineAnnealingWarmRestarts,\n",
    "                                      StepLR,\n",
    "                                      ExponentialLR)"
   ],
   "metadata": {
    "collapsed": false
   }
  },
  {
   "cell_type": "code",
   "execution_count": 24,
   "outputs": [
    {
     "data": {
      "text/plain": "<Figure size 640x480 with 1 Axes>",
      "image/png": "[encoded data removed]"
     },
     "metadata": {},
     "output_type": "display_data"
    }
   ],
   "source": [
    "class Swish(nn.Module):\n",
    "    def forward(self, x):\n",
    "        return x * torch.sigmoid(x)\n",
    "\n",
    "x = torch.linspace(-10.0, 10.0, 100)\n",
    "swish = Swish()\n",
    "swish_out = swish(x)\n",
    "relu_out = torch.relu(x)\n",
    "\n",
    "plt.title('Swish function')\n",
    "plt.plot(x.numpy(), swish_out.numpy(), label='Swish')\n",
    "plt.plot(x.numpy(), relu_out.numpy(), label='ReLU')\n",
    "plt.legend()\n",
    "plt.show()"
   ],
   "metadata": {
    "collapsed": false
   }
  },
  {
   "cell_type": "code",
   "execution_count": 25,
   "outputs": [],
   "source": [
    "class ConvNormPool(nn.Module):\n",
    "    \"\"\"Conv Skip-connection module\"\"\"\n",
    "    def __init__(self, input_size, hidden_size, kernel_size, norm_type='bachnorm'):\n",
    "        super().__init__()\n",
    "\n",
    "        self.kernel_size = kernel_size\n",
    "        self.conv_1 = nn.Conv1d(in_channels=input_size, out_channels=hidden_size, kernel_size=kernel_size)\n",
    "        self.conv_2 = nn.Conv1d(in_channels=hidden_size, out_channels=hidden_size, kernel_size=kernel_size)\n",
    "        self.conv_3 = nn.Conv1d(in_channels=hidden_size, out_channels=hidden_size, kernel_size=kernel_size)\n",
    "        self.swish_1 = Swish()\n",
    "        self.swish_2 = Swish()\n",
    "        self.swish_3 = Swish()\n",
    "        if norm_type == 'group':\n",
    "            self.normalization_1 = nn.GroupNorm(num_groups=8, num_channels=hidden_size)\n",
    "            self.normalization_2 = nn.GroupNorm(num_groups=8, num_channels=hidden_size)\n",
    "            self.normalization_3 = nn.GroupNorm(num_groups=8, num_channels=hidden_size)\n",
    "        else:\n",
    "            self.normalization_1 = nn.BatchNorm1d(num_features=hidden_size)\n",
    "            self.normalization_2 = nn.BatchNorm1d(num_features=hidden_size)\n",
    "            self.normalization_3 = nn.BatchNorm1d(num_features=hidden_size)\n",
    "\n",
    "        self.pool = nn.MaxPool1d(kernel_size=2)\n",
    "\n",
    "    def forward(self, input):\n",
    "        conv1 = self.conv_1(input)\n",
    "        x = self.normalization_1(conv1)\n",
    "        x = self.swish_1(x)\n",
    "        x = F.pad(x, pad=(self.kernel_size - 1, 0))\n",
    "\n",
    "        conv2 = self.conv_2(x)\n",
    "        x = self.normalization_2(conv2)\n",
    "        x = self.swish_2(x)\n",
    "        x = F.pad(x, pad=(self.kernel_size - 1, 0))\n",
    "\n",
    "        conv3 = self.conv_3(x)\n",
    "        x = self.normalization_3(conv1+conv3)\n",
    "        x = self.swish_3(x)\n",
    "        x = F.pad(x, pad=(self.kernel_size - 1, 0))\n",
    "\n",
    "        x = self.pool(x)\n",
    "        return x"
   ],
   "metadata": {
    "collapsed": false
   }
  },
  {
   "cell_type": "code",
   "execution_count": 26,
   "outputs": [],
   "source": [
    "class RNN(nn.Module):\n",
    "    \"\"\"RNN module(cell type lstm or gru)\"\"\"\n",
    "    def __init__(self, input_size, hid_size, num_rnn_layers=1, dropout_p = 0.2, bidirectional = False, rnn_type = 'lstm'):\n",
    "        super().__init__()\n",
    "        if rnn_type == 'lstm':\n",
    "            self.rnn_layer = nn.LSTM( input_size=input_size, hidden_size=hid_size, num_layers=num_rnn_layers, dropout=dropout_p if num_rnn_layers>1 else 0, bidirectional=bidirectional, batch_first=True)\n",
    "        else:\n",
    "            self.rnn_layer = nn.GRU(input_size=input_size, hidden_size=hid_size, num_layers=num_rnn_layers, dropout=dropout_p if num_rnn_layers>1 else 0, bidirectional=bidirectional, batch_first=True)\n",
    "\n",
    "    def forward(self, input):\n",
    "        outputs, hidden_states = self.rnn_layer(input)\n",
    "        return outputs, hidden_states"
   ],
   "metadata": {
    "collapsed": false
   }
  },
  {
   "cell_type": "code",
   "execution_count": 27,
   "outputs": [],
   "source": [
    "class RNNModel(nn.Module):\n",
    "    def __init__(self, input_size, hid_size, rnn_type, bidirectional, n_classes=5, kernel_size=5):\n",
    "        super().__init__()\n",
    "        self.rnn_layer = RNN(\n",
    "            input_size=46,#hid_size * 2 if bidirectional else hid_size,\n",
    "            hid_size=hid_size,\n",
    "            rnn_type=rnn_type,\n",
    "            bidirectional=bidirectional\n",
    "        )\n",
    "        self.conv1 = ConvNormPool(input_size=input_size, hidden_size=hid_size, kernel_size=kernel_size)\n",
    "        self.conv2 = ConvNormPool(input_size=hid_size, hidden_size=hid_size, kernel_size=kernel_size)\n",
    "        self.avgpool = nn.AdaptiveAvgPool1d((1))\n",
    "        self.fc = nn.Linear(in_features=hid_size, out_features=n_classes)\n",
    "\n",
    "    def forward(self, input):\n",
    "        x = self.conv1(input)\n",
    "        x = self.conv2(x)\n",
    "        x, _ = self.rnn_layer(x)\n",
    "        x = self.avgpool(x)\n",
    "        x = x.view(-1, x.size(1) * x.size(2))\n",
    "        x = F.softmax(self.fc(x), dim=1)#.squeeze(1)\n",
    "        return x"
   ],
   "metadata": {
    "collapsed": false
   }
  },
  {
   "cell_type": "code",
   "execution_count": 29,
   "outputs": [
    {
     "name": "stdout",
     "output_type": "stream",
     "text": [
      "Model: \n",
      "RNNModel(\n",
      "  (rnn_layer): RNN(\n",
      "    (rnn_layer): LSTM(46, 64, batch_first=True, bidirectional=True)\n",
      "  )\n",
      "  (conv1): ConvNormPool(\n",
      "    (conv_1): Conv1d(1, 64, kernel_size=(5,), stride=(1,))\n",
      "    (conv_2): Conv1d(64, 64, kernel_size=(5,), stride=(1,))\n",
      "    (conv_3): Conv1d(64, 64, kernel_size=(5,), stride=(1,))\n",
      "    (swish_1): Swish()\n",
      "    (swish_2): Swish()\n",
      "    (swish_3): Swish()\n",
      "    (normalization_1): BatchNorm1d(64, eps=1e-05, momentum=0.1, affine=True, track_running_stats=True)\n",
      "    (normalization_2): BatchNorm1d(64, eps=1e-05, momentum=0.1, affine=True, track_running_stats=True)\n",
      "    (normalization_3): BatchNorm1d(64, eps=1e-05, momentum=0.1, affine=True, track_running_stats=True)\n",
      "    (pool): MaxPool1d(kernel_size=2, stride=2, padding=0, dilation=1, ceil_mode=False)\n",
      "  )\n",
      "  (conv2): ConvNormPool(\n",
      "    (conv_1): Conv1d(64, 64, kernel_size=(5,), stride=(1,))\n",
      "    (conv_2): Conv1d(64, 64, kernel_size=(5,), stride=(1,))\n",
      "    (conv_3): Conv1d(64, 64, kernel_size=(5,), stride=(1,))\n",
      "    (swish_1): Swish()\n",
      "    (swish_2): Swish()\n",
      "    (swish_3): Swish()\n",
      "    (normalization_1): BatchNorm1d(64, eps=1e-05, momentum=0.1, affine=True, track_running_stats=True)\n",
      "    (normalization_2): BatchNorm1d(64, eps=1e-05, momentum=0.1, affine=True, track_running_stats=True)\n",
      "    (normalization_3): BatchNorm1d(64, eps=1e-05, momentum=0.1, affine=True, track_running_stats=True)\n",
      "    (pool): MaxPool1d(kernel_size=2, stride=2, padding=0, dilation=1, ceil_mode=False)\n",
      "  )\n",
      "  (avgpool): AdaptiveAvgPool1d(output_size=1)\n",
      "  (fc): Linear(in_features=64, out_features=5, bias=True)\n",
      ")\n"
     ]
    }
   ],
   "source": [
    "model = RNNModel(1, 64, 'lstm', True)\n",
    "print('Model: ')\n",
    "print(model)"
   ],
   "metadata": {
    "collapsed": false
   }
  },
  {
   "cell_type": "code",
   "execution_count": null,
   "outputs": [],
   "source": [
    "from tensorflow.keras.layers import Conv1D, MaxPooling1D, BatchNormalization, Add\n",
    "import tensorflow as tf\n",
    "\n",
    "class ConvNormPool(tf.keras.Model):\n",
    "    \"\"\"Conv Skip-connection module\"\"\"\n",
    "    def __init__(self, input_size, hidden_size, kernel_size, norm_type='batchnorm'):\n",
    "        super(ConvNormPool, self).__init__()\n",
    "\n",
    "        self.kernel_size = kernel_size\n",
    "        self.conv_1 = Conv1D(filters=hidden_size, kernel_size=kernel_size,\n",
    "                             input_shape=(None, input_size))\n",
    "        self.conv_2 = Conv1D(filters=hidden_size, kernel_size=kernel_size)\n",
    "        self.conv_3 = Conv1D(filters=hidden_size, kernel_size=kernel_size)\n",
    "        if norm_type == 'group':\n",
    "            self.normalization_1 = NotImplementedError(\"Group normalization is not supported in Keras\")\n",
    "            self.normalization_2 = NotImplementedError(\"Group normalization is not supported in Keras\")\n",
    "            self.normalization_3 = NotImplementedError(\"Group normalization is not supported in Keras\")\n",
    "        else:\n",
    "            self.normalization_1 = BatchNormalization()\n",
    "            self.normalization_2 = BatchNormalization()\n",
    "            self.normalization_3 = BatchNormalization()\n",
    "\n",
    "        self.pool = MaxPooling1D(pool_size=2)\n",
    "\n",
    "    def call(self, input):\n",
    "        conv1 = self.conv_1(input)\n",
    "        x = self.normalization_1(conv1)\n",
    "        x = tf.nn.swish(x)\n",
    "        x = tf.pad(x, paddings=[[0, 0], [self.kernel_size - 1, 0], [0, 0]])\n",
    "\n",
    "        conv2 = self.conv_2(x)\n",
    "        x = self.normalization_2(conv2)\n",
    "        x = tf.nn.swish(x)\n",
    "        x = tf.pad(x, paddings=[[0, 0], [self.kernel_size - 1, 0], [0, 0]])\n",
    "\n",
    "        conv3 = self.conv_3(x)\n",
    "        x = self.normalization_3(tf.keras.layers.add([conv1, conv3]))\n",
    "        x = tf.nn.swish(x)\n",
    "        x = tf.pad(x, paddings=[[0, 0], [self.kernel_size - 1, 0], [0, 0]])\n",
    "\n",
    "        x = self.pool(x)\n",
    "        return x\n"
   ],
   "metadata": {
    "collapsed": false
   }
  },
  {
   "cell_type": "code",
   "execution_count": null,
   "outputs": [],
   "source": [
    "\n",
    "\n",
    "# class RNN:\n",
    "#     def __init__(self, input_size, hid_size, num_rnn_layers=1, dropout_p=0.2, bidirectional=False, rnn_type='lstm'):\n",
    "#         self.model = Sequential()\n",
    "#         if rnn_type == 'lstm':\n",
    "#             self.model.add(LSTM(hid_size, input_shape=(None, input_size),\n",
    "#                                  return_sequences=True, dropout=dropout_p if num_rnn_layers > 1 else 0,\n",
    "#                                  bidirectional=bidirectional))\n",
    "#         else:\n",
    "#             self.model.add(GRU(hid_size, input_shape=(None, input_size),\n",
    "#                                 return_sequences=True, dropout=dropout_p if num_rnn_layers > 1 else 0,\n",
    "#                                 bidirectional=bidirectional))\n",
    "#\n",
    "#     def __call__(self, x):\n",
    "#         return self.model(x)\n"
   ],
   "metadata": {
    "collapsed": false
   }
  },
  {
   "cell_type": "code",
   "execution_count": 38,
   "outputs": [],
   "source": [
    "from tensorflow import keras\n",
    "import numpy as np\n",
    "from keras.layers import LSTM, GRU\n",
    "from keras.models import Sequential\n",
    "\n",
    "class RNNModel(keras.Model):\n",
    "    def __init__(self, input_size, hid_size, rnn_type, n_classes=5, kernel_size=5):\n",
    "        super().__init__()\n",
    "        if rnn_type == 'lstm':\n",
    "            self.rnn_layer = keras.layers.LSTM(hid_size, return_sequences=True)(input_size)\n",
    "        else:\n",
    "            self.rnn_layer = keras.layers.GRU(hid_size, return_sequences=True)(input_size)\n",
    "        self.conv1 = keras.layers.Conv1D(hid_size, kernel_size, padding='same', activation='relu')\n",
    "        self.conv2 = keras.layers.Conv1D(hid_size, kernel_size, padding='same', activation='relu')\n",
    "        self.avgpool = keras.layers.GlobalAveragePooling1D()\n",
    "        self.fc = keras.layers.Dense(n_classes, activation='softmax')\n",
    "\n",
    "    def call(self, inputs):\n",
    "        x = self.conv1(inputs)\n",
    "        x = self.conv2(x)\n",
    "        x = self.rnn_layer(x)\n",
    "        x = self.avgpool(x)\n",
    "        x = self.fc(x)\n",
    "        return x\n"
   ],
   "metadata": {
    "collapsed": false
   }
  },
  {
   "cell_type": "code",
   "execution_count": 39,
   "outputs": [
    {
     "ename": "ValueError",
     "evalue": "Input 0 of layer \"lstm_2\" is incompatible with the layer: expected ndim=3, found ndim=0. Full shape received: ()",
     "output_type": "error",
     "traceback": [
      "\u001B[1;31m---------------------------------------------------------------------------\u001B[0m",
      "\u001B[1;31mValueError\u001B[0m                                Traceback (most recent call last)",
      "Cell \u001B[1;32mIn[39], line 1\u001B[0m\n\u001B[1;32m----> 1\u001B[0m model \u001B[38;5;241m=\u001B[39m \u001B[43mRNNModel\u001B[49m\u001B[43m(\u001B[49m\u001B[38;5;241;43m1\u001B[39;49m\u001B[43m,\u001B[49m\u001B[43m \u001B[49m\u001B[38;5;241;43m64\u001B[39;49m\u001B[43m,\u001B[49m\u001B[43m \u001B[49m\u001B[38;5;124;43m'\u001B[39;49m\u001B[38;5;124;43mlstm\u001B[39;49m\u001B[38;5;124;43m'\u001B[39;49m\u001B[43m)\u001B[49m\n\u001B[0;32m      2\u001B[0m model\u001B[38;5;241m.\u001B[39msummary()\n",
      "Cell \u001B[1;32mIn[38], line 10\u001B[0m, in \u001B[0;36mRNNModel.__init__\u001B[1;34m(self, input_size, hid_size, rnn_type, n_classes, kernel_size)\u001B[0m\n\u001B[0;32m      8\u001B[0m \u001B[38;5;28msuper\u001B[39m()\u001B[38;5;241m.\u001B[39m\u001B[38;5;21m__init__\u001B[39m()\n\u001B[0;32m      9\u001B[0m \u001B[38;5;28;01mif\u001B[39;00m rnn_type \u001B[38;5;241m==\u001B[39m \u001B[38;5;124m'\u001B[39m\u001B[38;5;124mlstm\u001B[39m\u001B[38;5;124m'\u001B[39m:\n\u001B[1;32m---> 10\u001B[0m     \u001B[38;5;28mself\u001B[39m\u001B[38;5;241m.\u001B[39mrnn_layer \u001B[38;5;241m=\u001B[39m \u001B[43mkeras\u001B[49m\u001B[38;5;241;43m.\u001B[39;49m\u001B[43mlayers\u001B[49m\u001B[38;5;241;43m.\u001B[39;49m\u001B[43mLSTM\u001B[49m\u001B[43m(\u001B[49m\u001B[43mhid_size\u001B[49m\u001B[43m,\u001B[49m\u001B[43m \u001B[49m\u001B[43mreturn_sequences\u001B[49m\u001B[38;5;241;43m=\u001B[39;49m\u001B[38;5;28;43;01mTrue\u001B[39;49;00m\u001B[43m)\u001B[49m\u001B[43m(\u001B[49m\u001B[43minput_size\u001B[49m\u001B[43m)\u001B[49m\n\u001B[0;32m     11\u001B[0m \u001B[38;5;28;01melse\u001B[39;00m:\n\u001B[0;32m     12\u001B[0m     \u001B[38;5;28mself\u001B[39m\u001B[38;5;241m.\u001B[39mrnn_layer \u001B[38;5;241m=\u001B[39m keras\u001B[38;5;241m.\u001B[39mlayers\u001B[38;5;241m.\u001B[39mGRU(hid_size, return_sequences\u001B[38;5;241m=\u001B[39m\u001B[38;5;28;01mTrue\u001B[39;00m)(input_size)\n",
      "File \u001B[1;32m~\\anaconda3\\lib\\site-packages\\keras\\layers\\rnn\\base_rnn.py:553\u001B[0m, in \u001B[0;36mRNN.__call__\u001B[1;34m(self, inputs, initial_state, constants, **kwargs)\u001B[0m\n\u001B[0;32m    548\u001B[0m inputs, initial_state, constants \u001B[38;5;241m=\u001B[39m rnn_utils\u001B[38;5;241m.\u001B[39mstandardize_args(\n\u001B[0;32m    549\u001B[0m     inputs, initial_state, constants, \u001B[38;5;28mself\u001B[39m\u001B[38;5;241m.\u001B[39m_num_constants\n\u001B[0;32m    550\u001B[0m )\n\u001B[0;32m    552\u001B[0m \u001B[38;5;28;01mif\u001B[39;00m initial_state \u001B[38;5;129;01mis\u001B[39;00m \u001B[38;5;28;01mNone\u001B[39;00m \u001B[38;5;129;01mand\u001B[39;00m constants \u001B[38;5;129;01mis\u001B[39;00m \u001B[38;5;28;01mNone\u001B[39;00m:\n\u001B[1;32m--> 553\u001B[0m     \u001B[38;5;28;01mreturn\u001B[39;00m \u001B[38;5;28msuper\u001B[39m()\u001B[38;5;241m.\u001B[39m\u001B[38;5;21m__call__\u001B[39m(inputs, \u001B[38;5;241m*\u001B[39m\u001B[38;5;241m*\u001B[39mkwargs)\n\u001B[0;32m    555\u001B[0m \u001B[38;5;66;03m# If any of `initial_state` or `constants` are specified and are Keras\u001B[39;00m\n\u001B[0;32m    556\u001B[0m \u001B[38;5;66;03m# tensors, then add them to the inputs and temporarily modify the\u001B[39;00m\n\u001B[0;32m    557\u001B[0m \u001B[38;5;66;03m# input_spec to include them.\u001B[39;00m\n\u001B[0;32m    559\u001B[0m additional_inputs \u001B[38;5;241m=\u001B[39m []\n",
      "File \u001B[1;32m~\\anaconda3\\lib\\site-packages\\keras\\utils\\traceback_utils.py:70\u001B[0m, in \u001B[0;36mfilter_traceback.<locals>.error_handler\u001B[1;34m(*args, **kwargs)\u001B[0m\n\u001B[0;32m     67\u001B[0m     filtered_tb \u001B[38;5;241m=\u001B[39m _process_traceback_frames(e\u001B[38;5;241m.\u001B[39m__traceback__)\n\u001B[0;32m     68\u001B[0m     \u001B[38;5;66;03m# To get the full stack trace, call:\u001B[39;00m\n\u001B[0;32m     69\u001B[0m     \u001B[38;5;66;03m# `tf.debugging.disable_traceback_filtering()`\u001B[39;00m\n\u001B[1;32m---> 70\u001B[0m     \u001B[38;5;28;01mraise\u001B[39;00m e\u001B[38;5;241m.\u001B[39mwith_traceback(filtered_tb) \u001B[38;5;28;01mfrom\u001B[39;00m \u001B[38;5;28mNone\u001B[39m\n\u001B[0;32m     71\u001B[0m \u001B[38;5;28;01mfinally\u001B[39;00m:\n\u001B[0;32m     72\u001B[0m     \u001B[38;5;28;01mdel\u001B[39;00m filtered_tb\n",
      "File \u001B[1;32m~\\anaconda3\\lib\\site-packages\\keras\\engine\\input_spec.py:232\u001B[0m, in \u001B[0;36massert_input_compatibility\u001B[1;34m(input_spec, inputs, layer_name)\u001B[0m\n\u001B[0;32m    230\u001B[0m     ndim \u001B[38;5;241m=\u001B[39m shape\u001B[38;5;241m.\u001B[39mrank\n\u001B[0;32m    231\u001B[0m     \u001B[38;5;28;01mif\u001B[39;00m ndim \u001B[38;5;241m!=\u001B[39m spec\u001B[38;5;241m.\u001B[39mndim:\n\u001B[1;32m--> 232\u001B[0m         \u001B[38;5;28;01mraise\u001B[39;00m \u001B[38;5;167;01mValueError\u001B[39;00m(\n\u001B[0;32m    233\u001B[0m             \u001B[38;5;124mf\u001B[39m\u001B[38;5;124m'\u001B[39m\u001B[38;5;124mInput \u001B[39m\u001B[38;5;132;01m{\u001B[39;00minput_index\u001B[38;5;132;01m}\u001B[39;00m\u001B[38;5;124m of layer \u001B[39m\u001B[38;5;124m\"\u001B[39m\u001B[38;5;132;01m{\u001B[39;00mlayer_name\u001B[38;5;132;01m}\u001B[39;00m\u001B[38;5;124m\"\u001B[39m\u001B[38;5;124m \u001B[39m\u001B[38;5;124m'\u001B[39m\n\u001B[0;32m    234\u001B[0m             \u001B[38;5;124m\"\u001B[39m\u001B[38;5;124mis incompatible with the layer: \u001B[39m\u001B[38;5;124m\"\u001B[39m\n\u001B[0;32m    235\u001B[0m             \u001B[38;5;124mf\u001B[39m\u001B[38;5;124m\"\u001B[39m\u001B[38;5;124mexpected ndim=\u001B[39m\u001B[38;5;132;01m{\u001B[39;00mspec\u001B[38;5;241m.\u001B[39mndim\u001B[38;5;132;01m}\u001B[39;00m\u001B[38;5;124m, found ndim=\u001B[39m\u001B[38;5;132;01m{\u001B[39;00mndim\u001B[38;5;132;01m}\u001B[39;00m\u001B[38;5;124m. \u001B[39m\u001B[38;5;124m\"\u001B[39m\n\u001B[0;32m    236\u001B[0m             \u001B[38;5;124mf\u001B[39m\u001B[38;5;124m\"\u001B[39m\u001B[38;5;124mFull shape received: \u001B[39m\u001B[38;5;132;01m{\u001B[39;00m\u001B[38;5;28mtuple\u001B[39m(shape)\u001B[38;5;132;01m}\u001B[39;00m\u001B[38;5;124m\"\u001B[39m\n\u001B[0;32m    237\u001B[0m         )\n\u001B[0;32m    238\u001B[0m \u001B[38;5;28;01mif\u001B[39;00m spec\u001B[38;5;241m.\u001B[39mmax_ndim \u001B[38;5;129;01mis\u001B[39;00m \u001B[38;5;129;01mnot\u001B[39;00m \u001B[38;5;28;01mNone\u001B[39;00m:\n\u001B[0;32m    239\u001B[0m     ndim \u001B[38;5;241m=\u001B[39m x\u001B[38;5;241m.\u001B[39mshape\u001B[38;5;241m.\u001B[39mrank\n",
      "\u001B[1;31mValueError\u001B[0m: Input 0 of layer \"lstm_2\" is incompatible with the layer: expected ndim=3, found ndim=0. Full shape received: ()"
     ]
    }
   ],
   "source": [
    "model = RNNModel(1, 64, 'lstm')\n",
    "model.summary()"
   ],
   "metadata": {
    "collapsed": false
   }
  },
  {
   "cell_type": "code",
   "execution_count": 45,
   "outputs": [
    {
     "name": "stdout",
     "output_type": "stream",
     "text": [
      "Model: \"sequential_3\"\n",
      "_________________________________________________________________\n",
      " Layer (type)                Output Shape              Param #   \n",
      "=================================================================\n",
      " lstm_7 (LSTM)               (None, 251, 128)          66560     \n",
      "                                                                 \n",
      " dropout_2 (Dropout)         (None, 251, 128)          0         \n",
      "                                                                 \n",
      " lstm_8 (LSTM)               (None, 128)               131584    \n",
      "                                                                 \n",
      " dropout_3 (Dropout)         (None, 128)               0         \n",
      "                                                                 \n",
      " dense_3 (Dense)             (None, 2)                 258       \n",
      "                                                                 \n",
      "=================================================================\n",
      "Total params: 198,402\n",
      "Trainable params: 198,402\n",
      "Non-trainable params: 0\n",
      "_________________________________________________________________\n"
     ]
    }
   ],
   "source": [],
   "metadata": {
    "collapsed": false
   }
  },
  {
   "cell_type": "code",
   "execution_count": null,
   "outputs": [],
   "source": [],
   "metadata": {
    "collapsed": false
   }
  }
 ],
 "metadata": {
  "kernelspec": {
   "display_name": "Python 3",
   "language": "python",
   "name": "python3"
  },
  "language_info": {
   "codemirror_mode": {
    "name": "ipython",
    "version": 3
   },
   "file_extension": ".py",
   "mimetype": "text/x-python",
   "name": "python",
   "nbconvert_exporter": "python",
   "pygments_lexer": "ipython3",
   "version": "3.8.8"
  }
 },
 "nbformat": 4,
 "nbformat_minor": 5
}
