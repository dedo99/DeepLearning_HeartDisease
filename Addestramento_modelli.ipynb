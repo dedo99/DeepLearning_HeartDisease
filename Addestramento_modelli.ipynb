{
 "cells": [
  {
   "cell_type": "markdown",
   "id": "0edc8066",
   "metadata": {},
   "source": [
    "# Addestramento 1"
   ]
  },
  {
   "cell_type": "code",
   "execution_count": 3,
   "id": "7922fa54",
   "metadata": {},
   "outputs": [
    {
     "name": "stdout",
     "output_type": "stream",
     "text": [
      "Requirement already satisfied: d2l==1.0.0a1.post0 in c:\\users\\andre\\anaconda3\\lib\\site-packages (1.0.0a1.post0)\n",
      "Requirement already satisfied: numpy in c:\\users\\andre\\anaconda3\\lib\\site-packages (from d2l==1.0.0a1.post0) (1.20.3)\n",
      "Requirement already satisfied: matplotlib in c:\\users\\andre\\anaconda3\\lib\\site-packages (from d2l==1.0.0a1.post0) (3.4.3)\n",
      "Requirement already satisfied: pandas in c:\\users\\andre\\anaconda3\\lib\\site-packages (from d2l==1.0.0a1.post0) (1.3.4)\n",
      "Requirement already satisfied: gym in c:\\users\\andre\\anaconda3\\lib\\site-packages (from d2l==1.0.0a1.post0) (0.26.2)\n",
      "Requirement already satisfied: requests in c:\\users\\andre\\anaconda3\\lib\\site-packages (from d2l==1.0.0a1.post0) (2.26.0)\n",
      "Requirement already satisfied: matplotlib-inline in c:\\users\\andre\\appdata\\roaming\\python\\python39\\site-packages (from d2l==1.0.0a1.post0) (0.1.6)\n",
      "Requirement already satisfied: jupyter in c:\\users\\andre\\anaconda3\\lib\\site-packages (from d2l==1.0.0a1.post0) (1.0.0)\n",
      "Requirement already satisfied: gym-notices>=0.0.4 in c:\\users\\andre\\anaconda3\\lib\\site-packages (from gym->d2l==1.0.0a1.post0) (0.0.8)\n",
      "Requirement already satisfied: importlib-metadata>=4.8.0 in c:\\users\\andre\\anaconda3\\lib\\site-packages (from gym->d2l==1.0.0a1.post0) (4.8.1)\n",
      "Requirement already satisfied: cloudpickle>=1.2.0 in c:\\users\\andre\\anaconda3\\lib\\site-packages (from gym->d2l==1.0.0a1.post0) (2.0.0)\n",
      "Requirement already satisfied: zipp>=0.5 in c:\\users\\andre\\anaconda3\\lib\\site-packages (from importlib-metadata>=4.8.0->gym->d2l==1.0.0a1.post0) (3.6.0)\n",
      "Requirement already satisfied: notebook in c:\\users\\andre\\anaconda3\\lib\\site-packages (from jupyter->d2l==1.0.0a1.post0) (6.4.5)\n",
      "Requirement already satisfied: nbconvert in c:\\users\\andre\\anaconda3\\lib\\site-packages (from jupyter->d2l==1.0.0a1.post0) (6.1.0)\n",
      "Requirement already satisfied: jupyter-console in c:\\users\\andre\\anaconda3\\lib\\site-packages (from jupyter->d2l==1.0.0a1.post0) (6.4.0)\n",
      "Requirement already satisfied: qtconsole in c:\\users\\andre\\anaconda3\\lib\\site-packages (from jupyter->d2l==1.0.0a1.post0) (5.1.1)\n",
      "Requirement already satisfied: ipykernel in c:\\users\\andre\\appdata\\roaming\\python\\python39\\site-packages (from jupyter->d2l==1.0.0a1.post0) (6.17.1)\n",
      "Requirement already satisfied: ipywidgets in c:\\users\\andre\\anaconda3\\lib\\site-packages (from jupyter->d2l==1.0.0a1.post0) (7.6.5)\n",
      "Requirement already satisfied: psutil in c:\\users\\andre\\appdata\\roaming\\python\\python39\\site-packages (from ipykernel->jupyter->d2l==1.0.0a1.post0) (5.9.4)\n",
      "Requirement already satisfied: tornado>=6.1 in c:\\users\\andre\\appdata\\roaming\\python\\python39\\site-packages (from ipykernel->jupyter->d2l==1.0.0a1.post0) (6.2)\n",
      "Requirement already satisfied: jupyter-client>=6.1.12 in c:\\users\\andre\\appdata\\roaming\\python\\python39\\site-packages (from ipykernel->jupyter->d2l==1.0.0a1.post0) (7.4.8)\n",
      "Requirement already satisfied: ipython>=7.23.1 in c:\\users\\andre\\appdata\\roaming\\python\\python39\\site-packages (from ipykernel->jupyter->d2l==1.0.0a1.post0) (8.7.0)\n",
      "Requirement already satisfied: debugpy>=1.0 in c:\\users\\andre\\appdata\\roaming\\python\\python39\\site-packages (from ipykernel->jupyter->d2l==1.0.0a1.post0) (1.6.4)\n",
      "Requirement already satisfied: pyzmq>=17 in c:\\users\\andre\\appdata\\roaming\\python\\python39\\site-packages (from ipykernel->jupyter->d2l==1.0.0a1.post0) (24.0.1)\n",
      "Requirement already satisfied: traitlets>=5.1.0 in c:\\users\\andre\\appdata\\roaming\\python\\python39\\site-packages (from ipykernel->jupyter->d2l==1.0.0a1.post0) (5.6.0)\n",
      "Requirement already satisfied: packaging in c:\\users\\andre\\appdata\\roaming\\python\\python39\\site-packages (from ipykernel->jupyter->d2l==1.0.0a1.post0) (21.3)\n",
      "Requirement already satisfied: nest-asyncio in c:\\users\\andre\\appdata\\roaming\\python\\python39\\site-packages (from ipykernel->jupyter->d2l==1.0.0a1.post0) (1.5.6)\n",
      "Requirement already satisfied: decorator in c:\\users\\andre\\appdata\\roaming\\python\\python39\\site-packages (from ipython>=7.23.1->ipykernel->jupyter->d2l==1.0.0a1.post0) (5.1.1)\n",
      "Requirement already satisfied: jedi>=0.16 in c:\\users\\andre\\appdata\\roaming\\python\\python39\\site-packages (from ipython>=7.23.1->ipykernel->jupyter->d2l==1.0.0a1.post0) (0.18.2)\n",
      "Requirement already satisfied: colorama in c:\\users\\andre\\appdata\\roaming\\python\\python39\\site-packages (from ipython>=7.23.1->ipykernel->jupyter->d2l==1.0.0a1.post0) (0.4.6)\n",
      "Requirement already satisfied: prompt-toolkit<3.1.0,>=3.0.11 in c:\\users\\andre\\appdata\\roaming\\python\\python39\\site-packages (from ipython>=7.23.1->ipykernel->jupyter->d2l==1.0.0a1.post0) (3.0.36)\n",
      "Requirement already satisfied: stack-data in c:\\users\\andre\\appdata\\roaming\\python\\python39\\site-packages (from ipython>=7.23.1->ipykernel->jupyter->d2l==1.0.0a1.post0) (0.6.2)\n",
      "Requirement already satisfied: backcall in c:\\users\\andre\\appdata\\roaming\\python\\python39\\site-packages (from ipython>=7.23.1->ipykernel->jupyter->d2l==1.0.0a1.post0) (0.2.0)\n",
      "Requirement already satisfied: pickleshare in c:\\users\\andre\\appdata\\roaming\\python\\python39\\site-packages (from ipython>=7.23.1->ipykernel->jupyter->d2l==1.0.0a1.post0) (0.7.5)\n",
      "Requirement already satisfied: pygments>=2.4.0 in c:\\users\\andre\\appdata\\roaming\\python\\python39\\site-packages (from ipython>=7.23.1->ipykernel->jupyter->d2l==1.0.0a1.post0) (2.13.0)\n",
      "Requirement already satisfied: parso<0.9.0,>=0.8.0 in c:\\users\\andre\\appdata\\roaming\\python\\python39\\site-packages (from jedi>=0.16->ipython>=7.23.1->ipykernel->jupyter->d2l==1.0.0a1.post0) (0.8.3)\n",
      "Requirement already satisfied: entrypoints in c:\\users\\andre\\appdata\\roaming\\python\\python39\\site-packages (from jupyter-client>=6.1.12->ipykernel->jupyter->d2l==1.0.0a1.post0) (0.4)\n",
      "Requirement already satisfied: jupyter-core>=4.9.2 in c:\\users\\andre\\appdata\\roaming\\python\\python39\\site-packages (from jupyter-client>=6.1.12->ipykernel->jupyter->d2l==1.0.0a1.post0) (5.1.0)\n",
      "Requirement already satisfied: python-dateutil>=2.8.2 in c:\\users\\andre\\appdata\\roaming\\python\\python39\\site-packages (from jupyter-client>=6.1.12->ipykernel->jupyter->d2l==1.0.0a1.post0) (2.8.2)\n",
      "Requirement already satisfied: platformdirs>=2.5 in c:\\users\\andre\\appdata\\roaming\\python\\python39\\site-packages (from jupyter-core>=4.9.2->jupyter-client>=6.1.12->ipykernel->jupyter->d2l==1.0.0a1.post0) (2.6.0)\n",
      "Requirement already satisfied: pywin32>=1.0 in c:\\users\\andre\\appdata\\roaming\\python\\python39\\site-packages (from jupyter-core>=4.9.2->jupyter-client>=6.1.12->ipykernel->jupyter->d2l==1.0.0a1.post0) (305)\n",
      "Requirement already satisfied: wcwidth in c:\\users\\andre\\appdata\\roaming\\python\\python39\\site-packages (from prompt-toolkit<3.1.0,>=3.0.11->ipython>=7.23.1->ipykernel->jupyter->d2l==1.0.0a1.post0) (0.2.5)\n",
      "Requirement already satisfied: six>=1.5 in c:\\users\\andre\\appdata\\roaming\\python\\python39\\site-packages (from python-dateutil>=2.8.2->jupyter-client>=6.1.12->ipykernel->jupyter->d2l==1.0.0a1.post0) (1.16.0)\n",
      "Requirement already satisfied: widgetsnbextension~=3.5.0 in c:\\users\\andre\\anaconda3\\lib\\site-packages (from ipywidgets->jupyter->d2l==1.0.0a1.post0) (3.5.1)\n",
      "Requirement already satisfied: ipython-genutils~=0.2.0 in c:\\users\\andre\\anaconda3\\lib\\site-packages (from ipywidgets->jupyter->d2l==1.0.0a1.post0) (0.2.0)\n",
      "Requirement already satisfied: nbformat>=4.2.0 in c:\\users\\andre\\anaconda3\\lib\\site-packages (from ipywidgets->jupyter->d2l==1.0.0a1.post0) (5.1.3)\n",
      "Requirement already satisfied: jupyterlab-widgets>=1.0.0 in c:\\users\\andre\\anaconda3\\lib\\site-packages (from ipywidgets->jupyter->d2l==1.0.0a1.post0) (1.0.0)\n",
      "Requirement already satisfied: jsonschema!=2.5.0,>=2.4 in c:\\users\\andre\\anaconda3\\lib\\site-packages (from nbformat>=4.2.0->ipywidgets->jupyter->d2l==1.0.0a1.post0) (3.2.0)\n",
      "Requirement already satisfied: pyrsistent>=0.14.0 in c:\\users\\andre\\anaconda3\\lib\\site-packages (from jsonschema!=2.5.0,>=2.4->nbformat>=4.2.0->ipywidgets->jupyter->d2l==1.0.0a1.post0) (0.18.0)\n",
      "Requirement already satisfied: setuptools in c:\\users\\andre\\anaconda3\\lib\\site-packages (from jsonschema!=2.5.0,>=2.4->nbformat>=4.2.0->ipywidgets->jupyter->d2l==1.0.0a1.post0) (58.0.4)\n",
      "Requirement already satisfied: attrs>=17.4.0 in c:\\users\\andre\\anaconda3\\lib\\site-packages (from jsonschema!=2.5.0,>=2.4->nbformat>=4.2.0->ipywidgets->jupyter->d2l==1.0.0a1.post0) (21.2.0)\n",
      "Requirement already satisfied: jinja2 in c:\\users\\andre\\anaconda3\\lib\\site-packages (from notebook->jupyter->d2l==1.0.0a1.post0) (2.11.3)\n",
      "Requirement already satisfied: Send2Trash>=1.5.0 in c:\\users\\andre\\anaconda3\\lib\\site-packages (from notebook->jupyter->d2l==1.0.0a1.post0) (1.8.0)\n",
      "Requirement already satisfied: argon2-cffi in c:\\users\\andre\\anaconda3\\lib\\site-packages (from notebook->jupyter->d2l==1.0.0a1.post0) (20.1.0)\n",
      "Requirement already satisfied: prometheus-client in c:\\users\\andre\\anaconda3\\lib\\site-packages (from notebook->jupyter->d2l==1.0.0a1.post0) (0.11.0)\n",
      "Requirement already satisfied: terminado>=0.8.3 in c:\\users\\andre\\anaconda3\\lib\\site-packages (from notebook->jupyter->d2l==1.0.0a1.post0) (0.9.4)\n",
      "Requirement already satisfied: pywinpty>=0.5 in c:\\users\\andre\\anaconda3\\lib\\site-packages (from terminado>=0.8.3->notebook->jupyter->d2l==1.0.0a1.post0) (0.5.7)\n",
      "Requirement already satisfied: cffi>=1.0.0 in c:\\users\\andre\\anaconda3\\lib\\site-packages (from argon2-cffi->notebook->jupyter->d2l==1.0.0a1.post0) (1.14.6)\n",
      "Requirement already satisfied: pycparser in c:\\users\\andre\\anaconda3\\lib\\site-packages (from cffi>=1.0.0->argon2-cffi->notebook->jupyter->d2l==1.0.0a1.post0) (2.20)\n",
      "Requirement already satisfied: MarkupSafe>=0.23 in c:\\users\\andre\\anaconda3\\lib\\site-packages (from jinja2->notebook->jupyter->d2l==1.0.0a1.post0) (1.1.1)\n",
      "Requirement already satisfied: pyparsing>=2.2.1 in c:\\users\\andre\\appdata\\roaming\\python\\python39\\site-packages (from matplotlib->d2l==1.0.0a1.post0) (3.0.9)\n",
      "Requirement already satisfied: pillow>=6.2.0 in c:\\users\\andre\\anaconda3\\lib\\site-packages (from matplotlib->d2l==1.0.0a1.post0) (8.4.0)\n",
      "Requirement already satisfied: cycler>=0.10 in c:\\users\\andre\\anaconda3\\lib\\site-packages (from matplotlib->d2l==1.0.0a1.post0) (0.10.0)\n",
      "Requirement already satisfied: kiwisolver>=1.0.1 in c:\\users\\andre\\anaconda3\\lib\\site-packages (from matplotlib->d2l==1.0.0a1.post0) (1.3.1)\n",
      "Requirement already satisfied: mistune<2,>=0.8.1 in c:\\users\\andre\\anaconda3\\lib\\site-packages (from nbconvert->jupyter->d2l==1.0.0a1.post0) (0.8.4)\n",
      "Requirement already satisfied: nbclient<0.6.0,>=0.5.0 in c:\\users\\andre\\anaconda3\\lib\\site-packages (from nbconvert->jupyter->d2l==1.0.0a1.post0) (0.5.3)\n",
      "Requirement already satisfied: bleach in c:\\users\\andre\\anaconda3\\lib\\site-packages (from nbconvert->jupyter->d2l==1.0.0a1.post0) (4.0.0)\n",
      "Requirement already satisfied: pandocfilters>=1.4.1 in c:\\users\\andre\\anaconda3\\lib\\site-packages (from nbconvert->jupyter->d2l==1.0.0a1.post0) (1.4.3)\n",
      "Requirement already satisfied: jupyterlab-pygments in c:\\users\\andre\\anaconda3\\lib\\site-packages (from nbconvert->jupyter->d2l==1.0.0a1.post0) (0.1.2)\n",
      "Requirement already satisfied: testpath in c:\\users\\andre\\anaconda3\\lib\\site-packages (from nbconvert->jupyter->d2l==1.0.0a1.post0) (0.5.0)\n",
      "Requirement already satisfied: defusedxml in c:\\users\\andre\\anaconda3\\lib\\site-packages (from nbconvert->jupyter->d2l==1.0.0a1.post0) (0.7.1)\n",
      "Requirement already satisfied: async-generator in c:\\users\\andre\\anaconda3\\lib\\site-packages (from nbclient<0.6.0,>=0.5.0->nbconvert->jupyter->d2l==1.0.0a1.post0) (1.10)\n",
      "Requirement already satisfied: webencodings in c:\\users\\andre\\anaconda3\\lib\\site-packages (from bleach->nbconvert->jupyter->d2l==1.0.0a1.post0) (0.5.1)\n",
      "Requirement already satisfied: pytz>=2017.3 in c:\\users\\andre\\anaconda3\\lib\\site-packages (from pandas->d2l==1.0.0a1.post0) (2021.3)\n",
      "Requirement already satisfied: qtpy in c:\\users\\andre\\anaconda3\\lib\\site-packages (from qtconsole->jupyter->d2l==1.0.0a1.post0) (1.10.0)\n",
      "Requirement already satisfied: charset-normalizer~=2.0.0 in c:\\users\\andre\\anaconda3\\lib\\site-packages (from requests->d2l==1.0.0a1.post0) (2.0.4)\n",
      "Requirement already satisfied: urllib3<1.27,>=1.21.1 in c:\\users\\andre\\anaconda3\\lib\\site-packages (from requests->d2l==1.0.0a1.post0) (1.26.7)\n",
      "Requirement already satisfied: certifi>=2017.4.17 in c:\\users\\andre\\anaconda3\\lib\\site-packages (from requests->d2l==1.0.0a1.post0) (2021.10.8)\n",
      "Requirement already satisfied: idna<4,>=2.5 in c:\\users\\andre\\anaconda3\\lib\\site-packages (from requests->d2l==1.0.0a1.post0) (3.2)\n",
      "Requirement already satisfied: executing>=1.2.0 in c:\\users\\andre\\appdata\\roaming\\python\\python39\\site-packages (from stack-data->ipython>=7.23.1->ipykernel->jupyter->d2l==1.0.0a1.post0) (1.2.0)\n",
      "Requirement already satisfied: asttokens>=2.1.0 in c:\\users\\andre\\appdata\\roaming\\python\\python39\\site-packages (from stack-data->ipython>=7.23.1->ipykernel->jupyter->d2l==1.0.0a1.post0) (2.2.1)\n",
      "Requirement already satisfied: pure-eval in c:\\users\\andre\\appdata\\roaming\\python\\python39\\site-packages (from stack-data->ipython>=7.23.1->ipykernel->jupyter->d2l==1.0.0a1.post0) (0.2.2)\n"
     ]
    }
   ],
   "source": [
    "import tensorflow as tf\n",
    "from keras.legacy_tf_layers.convolutional import Conv1D\n",
    "from tensorflow import keras\n",
    "import pandas as pd\n",
    "!pip install d2l==1.0.0a1.post0\n",
    "from d2l import tensorflow as d2\n",
    "import tensorflow as tf\n",
    "from tensorflow import keras\n",
    "from tensorflow.keras.layers import Input, Dense, concatenate\n",
    "from tensorflow.keras.models import Model\n",
    "from tensorflow.keras.utils import plot_model\n",
    "from sklearn.model_selection import train_test_split"
   ]
  },
  {
   "cell_type": "code",
   "execution_count": 2,
   "id": "f072ba96",
   "metadata": {},
   "outputs": [
    {
     "name": "stdout",
     "output_type": "stream",
     "text": [
      "Model: \"sequential\"\n",
      "_________________________________________________________________\n",
      " Layer (type)                Output Shape              Param #   \n",
      "=================================================================\n",
      " conv1d (Conv1D)             (None, 296, 64)           384       \n",
      "                                                                 \n",
      " conv1d_1 (Conv1D)           (None, 292, 64)           20544     \n",
      "                                                                 \n",
      " max_pooling1d (MaxPooling1D  (None, 146, 64)          0         \n",
      " )                                                               \n",
      "                                                                 \n",
      " conv1d_2 (Conv1D)           (None, 144, 128)          24704     \n",
      "                                                                 \n",
      " conv1d_3 (Conv1D)           (None, 142, 128)          49280     \n",
      "                                                                 \n",
      " max_pooling1d_1 (MaxPooling  (None, 71, 128)          0         \n",
      " 1D)                                                             \n",
      "                                                                 \n",
      " flatten (Flatten)           (None, 9088)              0         \n",
      "                                                                 \n",
      " dense (Dense)               (None, 256)               2326784   \n",
      "                                                                 \n",
      " dense_1 (Dense)             (None, 128)               32896     \n",
      "                                                                 \n",
      " dense_2 (Dense)             (None, 5)                 645       \n",
      "                                                                 \n",
      "=================================================================\n",
      "Total params: 2,455,237\n",
      "Trainable params: 2,455,237\n",
      "Non-trainable params: 0\n",
      "_________________________________________________________________\n"
     ]
    }
   ],
   "source": [
    "model = keras.models.Sequential([\n",
    "keras.layers.Conv1D(filters=64, kernel_size=5, strides=1, padding=\"valid\", input_shape=[300, 1]),\n",
    "keras.layers.Conv1D(filters=64, kernel_size=5, strides=1, padding=\"valid\"),\n",
    "keras.layers.MaxPooling1D(pool_size=2, strides=2),\n",
    "keras.layers.Conv1D(filters=128, kernel_size=3, strides=1, padding=\"valid\"),\n",
    "keras.layers.Conv1D(filters=128, kernel_size=3, strides=1, padding=\"valid\"),\n",
    "keras.layers.MaxPooling1D(pool_size=2, strides=2),\n",
    "keras.layers.Flatten(),\n",
    "keras.layers.Dense(256, activation=tf.nn.relu),\n",
    "keras.layers.Dense(128, activation=tf.nn.relu),\n",
    "keras.layers.Dense(5, activation=tf.nn.softmax)\n",
    "])\n",
    "\n",
    "model.summary()"
   ]
  },
  {
   "cell_type": "code",
   "execution_count": 3,
   "id": "74c9aee4",
   "metadata": {},
   "outputs": [
    {
     "ename": "NameError",
     "evalue": "name 'x_train' is not defined",
     "output_type": "error",
     "traceback": [
      "\u001B[1;31m---------------------------------------------------------------------------\u001B[0m",
      "\u001B[1;31mNameError\u001B[0m                                 Traceback (most recent call last)",
      "Cell \u001B[1;32mIn[3], line 2\u001B[0m\n\u001B[0;32m      1\u001B[0m model\u001B[38;5;241m.\u001B[39mcompile(optimizer\u001B[38;5;241m=\u001B[39m\u001B[38;5;124m'\u001B[39m\u001B[38;5;124madam\u001B[39m\u001B[38;5;124m'\u001B[39m, loss\u001B[38;5;241m=\u001B[39m\u001B[38;5;124m'\u001B[39m\u001B[38;5;124msparse_categorical_crossentropy\u001B[39m\u001B[38;5;124m'\u001B[39m, metrics\u001B[38;5;241m=\u001B[39m[\u001B[38;5;124m'\u001B[39m\u001B[38;5;124maccuracy\u001B[39m\u001B[38;5;124m'\u001B[39m])\n\u001B[1;32m----> 2\u001B[0m model\u001B[38;5;241m.\u001B[39mfit(x\u001B[38;5;241m=\u001B[39m\u001B[43mx_train\u001B[49m, y\u001B[38;5;241m=\u001B[39my_train, epochs\u001B[38;5;241m=\u001B[39m\u001B[38;5;241m3\u001B[39m)\n\u001B[0;32m      4\u001B[0m test_error_rate \u001B[38;5;241m=\u001B[39m model\u001B[38;5;241m.\u001B[39mevaluate(x_test, y_test, verbose\u001B[38;5;241m=\u001B[39m\u001B[38;5;241m0\u001B[39m)\n",
      "\u001B[1;31mNameError\u001B[0m: name 'x_train' is not defined"
     ]
    }
   ],
   "source": [
    "model.compile(optimizer='adam', loss='sparse_categorical_crossentropy', metrics=['accuracy'])\n",
    "model.fit(x=x_train, y=y_train, epochs=3)\n",
    "\n",
    "test_error_rate = model.evaluate(x_test, y_test, verbose=0)"
   ]
  },
  {
   "cell_type": "markdown",
   "id": "1dbfbef5",
   "metadata": {},
   "source": [
    "# Addestramento 2"
   ]
  },
  {
   "cell_type": "code",
   "execution_count": 4,
   "id": "63de63c1",
   "metadata": {},
   "outputs": [
    {
     "name": "stdout",
     "output_type": "stream",
     "text": [
      "Model: \"merged model\"\n",
      "__________________________________________________________________________________________________\n",
      " Layer (type)                   Output Shape         Param #     Connected to                     \n",
      "==================================================================================================\n",
      " Input_tot (InputLayer)         [(None, 251, 1)]     0           []                               \n",
      "                                                                                                  \n",
      " branch1_1 (Conv1D)             (None, 248, 8)       40          ['Input_tot[0][0]']              \n",
      "                                                                                                  \n",
      " branch2_1 (Conv1D)             (None, 246, 8)       56          ['Input_tot[0][0]']              \n",
      "                                                                                                  \n",
      " branch3_1 (Conv1D)             (None, 244, 8)       72          ['Input_tot[0][0]']              \n",
      "                                                                                                  \n",
      " branch1_2 (MaxPooling1D)       (None, 124, 8)       0           ['branch1_1[0][0]']              \n",
      "                                                                                                  \n",
      " branch2_2 (MaxPooling1D)       (None, 123, 8)       0           ['branch2_1[0][0]']              \n",
      "                                                                                                  \n",
      " branch3_2 (MaxPooling1D)       (None, 122, 8)       0           ['branch3_1[0][0]']              \n",
      "                                                                                                  \n",
      " branch1_3 (Conv1D)             (None, 119, 24)      1176        ['branch1_2[0][0]']              \n",
      "                                                                                                  \n",
      " branch2_3 (Conv1D)             (None, 116, 24)      1560        ['branch2_2[0][0]']              \n",
      "                                                                                                  \n",
      " branch3_3 (Conv1D)             (None, 113, 24)      1944        ['branch3_2[0][0]']              \n",
      "                                                                                                  \n",
      " branch1_4 (MaxPooling1D)       (None, 59, 24)       0           ['branch1_3[0][0]']              \n",
      "                                                                                                  \n",
      " branch2_4 (MaxPooling1D)       (None, 58, 24)       0           ['branch2_3[0][0]']              \n",
      "                                                                                                  \n",
      " branch3_4 (MaxPooling1D)       (None, 56, 24)       0           ['branch3_3[0][0]']              \n",
      "                                                                                                  \n",
      " concatenated_layer (Concatenat  (None, 173, 24)     0           ['branch1_4[0][0]',              \n",
      " e)                                                               'branch2_4[0][0]',              \n",
      "                                                                  'branch3_4[0][0]']              \n",
      "                                                                                                  \n",
      " dense1 (Dense)                 (None, 173, 256)     6400        ['concatenated_layer[0][0]']     \n",
      "                                                                                                  \n",
      " dense2 (Dense)                 (None, 173, 32)      8224        ['dense1[0][0]']                 \n",
      "                                                                                                  \n",
      " output_layer (Dense)           (None, 173, 4)       132         ['dense2[0][0]']                 \n",
      "                                                                                                  \n",
      "==================================================================================================\n",
      "Total params: 19,604\n",
      "Trainable params: 19,604\n",
      "Non-trainable params: 0\n",
      "__________________________________________________________________________________________________\n",
      "You must install pydot (`pip install pydot`) and install graphviz (see instructions at https://graphviz.gitlab.io/download/) for plot_model to work.\n"
     ]
    }
   ],
   "source": [
    "import tensorflow as tf\n",
    "from tensorflow import keras\n",
    "from tensorflow.keras.layers import Input, Dense, concatenate\n",
    "from tensorflow.keras.models import Model\n",
    "from tensorflow.keras.utils import plot_model\n",
    "\n",
    "\n",
    "\n",
    "input_tot = Input(shape=(251, 1), name =\"Input_tot\")\n",
    "\n",
    "# Pipeline 1\n",
    "branch1_1 = keras.layers.Conv1D(filters=8, kernel_size=4, activation='relu', name =\"branch1_1\")(input_tot)\n",
    "branch1_2 = keras.layers.MaxPooling1D(pool_size=2, strides=2, name =\"branch1_2\")(branch1_1)\n",
    "branch1_3 = keras.layers.Conv1D(filters=24, kernel_size=6, activation='relu', name =\"branch1_3\")(branch1_2)\n",
    "branch1_4 = keras.layers.MaxPooling1D(pool_size=2, strides=2, name =\"branch1_4\")(branch1_3)\n",
    "\n",
    "# Pipeline 2\n",
    "branch2_1 = keras.layers.Conv1D(filters=8, kernel_size=6, activation='relu', name =\"branch2_1\")(input_tot)\n",
    "branch2_2 = keras.layers.MaxPooling1D(pool_size=2, strides=2, name =\"branch2_2\")(branch2_1)\n",
    "branch2_3 = keras.layers.Conv1D(filters=24, kernel_size=8, activation='relu', name =\"branch2_3\")(branch2_2)\n",
    "branch2_4 = keras.layers.MaxPooling1D(pool_size=2, strides=2, name =\"branch2_4\")(branch2_3)\n",
    "\n",
    "# Pipeline 3\n",
    "branch3_1 = keras.layers.Conv1D(filters=8, kernel_size=8, activation='relu', name =\"branch3_1\")(input_tot)\n",
    "branch3_2 = keras.layers.MaxPooling1D(pool_size=2, strides=2, name =\"branch3_2\")(branch3_1)\n",
    "branch3_3 = keras.layers.Conv1D(filters=24, kernel_size=10, activation='relu', name =\"branch3_3\")(branch3_2)\n",
    "branch3_4 = keras.layers.MaxPooling1D(pool_size=2, strides=2, name =\"branch3_4\")(branch3_3)\n",
    "\n",
    "#Merging tre pipeline\n",
    "branch_concatenate = concatenate([branch1_4,branch2_4,branch3_4], axis=1, name=\"concatenated_layer\")\n",
    "\n",
    "#Final Layer\n",
    "dense1 = Dense(256, activation = \"sigmoid\", name = \"dense1\")(branch_concatenate)\n",
    "dense2 = Dense(32, activation = \"sigmoid\", name = \"dense2\")(dense1)\n",
    "output_layer = Dense(4, activation = \"sigmoid\", name = \"output_layer\")(dense2)\n",
    "\n",
    "#Model Definition\n",
    "merged = Model(inputs=[input_tot],outputs=[output_layer], name = \"merged model\")\n",
    "\n",
    "#Model Details\n",
    "merged.summary()\n",
    "keras.utils.plot_model(merged, \"output/architecture.png\", show_shapes=True)"
   ]
  },
  {
   "cell_type": "code",
   "execution_count": 8,
   "id": "19ff36b3",
   "metadata": {},
   "outputs": [
    {
     "data": {
      "text/plain": "                                              signal annotypes\n0  [-0.265 -0.27  -0.265 -0.26  -0.275 -0.28  -0....         N",
      "text/html": "<div>\n<style scoped>\n    .dataframe tbody tr th:only-of-type {\n        vertical-align: middle;\n    }\n\n    .dataframe tbody tr th {\n        vertical-align: top;\n    }\n\n    .dataframe thead th {\n        text-align: right;\n    }\n</style>\n<table border=\"1\" class=\"dataframe\">\n  <thead>\n    <tr style=\"text-align: right;\">\n      <th></th>\n      <th>signal</th>\n      <th>annotypes</th>\n    </tr>\n  </thead>\n  <tbody>\n    <tr>\n      <th>0</th>\n      <td>[-0.265 -0.27  -0.265 -0.26  -0.275 -0.28  -0....</td>\n      <td>N</td>\n    </tr>\n  </tbody>\n</table>\n</div>"
     },
     "execution_count": 8,
     "metadata": {},
     "output_type": "execute_result"
    }
   ],
   "source": [
    "df = pd.read_csv('heartbeats/heartbeats_datasets.csv')\n",
    "\n",
    "df.head(1)"
   ]
  },
  {
   "cell_type": "code",
   "execution_count": 9,
   "outputs": [
    {
     "data": {
      "text/plain": "['[',\n '-',\n '0',\n '.',\n '2',\n '6',\n '5',\n ' ',\n '-',\n '0',\n '.',\n '2',\n '7',\n ' ',\n ' ',\n '-',\n '0',\n '.',\n '2',\n '6',\n '5',\n ' ',\n '-',\n '0',\n '.',\n '2',\n '6',\n ' ',\n ' ',\n '-',\n '0',\n '.',\n '2',\n '7',\n '5',\n ' ',\n '-',\n '0',\n '.',\n '2',\n '8',\n ' ',\n ' ',\n '-',\n '0',\n '.',\n '2',\n '9',\n ' ',\n ' ',\n '-',\n '0',\n '.',\n '2',\n '7',\n '5',\n ' ',\n '-',\n '0',\n '.',\n '2',\n '7',\n ' ',\n ' ',\n '-',\n '0',\n '.',\n '2',\n '6',\n '\\n',\n ' ',\n '-',\n '0',\n '.',\n '2',\n '8',\n ' ',\n ' ',\n '-',\n '0',\n '.',\n '2',\n '8',\n ' ',\n ' ',\n '-',\n '0',\n '.',\n '2',\n '8',\n '5',\n ' ',\n '-',\n '0',\n '.',\n '2',\n '7',\n '5',\n ' ',\n '-',\n '0',\n '.',\n '2',\n '7',\n '5',\n ' ',\n '-',\n '0',\n '.',\n '2',\n '6',\n '5',\n ' ',\n '-',\n '0',\n '.',\n '2',\n '7',\n ' ',\n ' ',\n '-',\n '0',\n '.',\n '2',\n '8',\n '5',\n ' ',\n '-',\n '0',\n '.',\n '2',\n '9',\n ' ',\n ' ',\n '-',\n '0',\n '.',\n '2',\n '8',\n '\\n',\n ' ',\n '-',\n '0',\n '.',\n '2',\n '7',\n '5',\n ' ',\n '-',\n '0',\n '.',\n '2',\n '8',\n '5',\n ' ',\n '-',\n '0',\n '.',\n '2',\n '8',\n ' ',\n ' ',\n '-',\n '0',\n '.',\n '3',\n ' ',\n ' ',\n ' ',\n '-',\n '0',\n '.',\n '3',\n ' ',\n ' ',\n ' ',\n '-',\n '0',\n '.',\n '3',\n '0',\n '5',\n ' ',\n '-',\n '0',\n '.',\n '2',\n '9',\n '5',\n ' ',\n '-',\n '0',\n '.',\n '3',\n ' ',\n ' ',\n ' ',\n '-',\n '0',\n '.',\n '3',\n '1',\n ' ',\n ' ',\n '-',\n '0',\n '.',\n '3',\n '1',\n '\\n',\n ' ',\n '-',\n '0',\n '.',\n '3',\n '0',\n '5',\n ' ',\n '-',\n '0',\n '.',\n '2',\n '9',\n '5',\n ' ',\n '-',\n '0',\n '.',\n '2',\n '8',\n '5',\n ' ',\n '-',\n '0',\n '.',\n '2',\n '8',\n '5',\n ' ',\n '-',\n '0',\n '.',\n '2',\n '9',\n ' ',\n ' ',\n '-',\n '0',\n '.',\n '2',\n '9',\n '5',\n ' ',\n '-',\n '0',\n '.',\n '3',\n '1',\n ' ',\n ' ',\n '-',\n '0',\n '.',\n '2',\n '9',\n ' ',\n ' ',\n '-',\n '0',\n '.',\n '2',\n '9',\n '5',\n ' ',\n '-',\n '0',\n '.',\n '3',\n '\\n',\n ' ',\n '-',\n '0',\n '.',\n '3',\n '0',\n '5',\n ' ',\n '-',\n '0',\n '.',\n '3',\n '1',\n ' ',\n ' ',\n '-',\n '0',\n '.',\n '3',\n '2',\n '5',\n ' ',\n '-',\n '0',\n '.',\n '3',\n '1',\n ' ',\n ' ',\n '-',\n '0',\n '.',\n '3',\n ' ',\n ' ',\n ' ',\n '-',\n '0',\n '.',\n '2',\n '9',\n ' ',\n ' ',\n '-',\n '0',\n '.',\n '3',\n '1',\n ' ',\n ' ',\n '-',\n '0',\n '.',\n '3',\n '2',\n '5',\n ' ',\n '-',\n '0',\n '.',\n '3',\n '3',\n ' ',\n ' ',\n '-',\n '0',\n '.',\n '3',\n '1',\n '5',\n '\\n',\n ' ',\n '-',\n '0',\n '.',\n '3',\n ' ',\n ' ',\n ' ',\n '-',\n '0',\n '.',\n '3',\n '0',\n '5',\n ' ',\n '-',\n '0',\n '.',\n '3',\n '1',\n ' ',\n ' ',\n '-',\n '0',\n '.',\n '3',\n '2',\n ' ',\n ' ',\n '-',\n '0',\n '.',\n '3',\n '3',\n ' ',\n ' ',\n '-',\n '0',\n '.',\n '3',\n '2',\n '5',\n ' ',\n '-',\n '0',\n '.',\n '3',\n '1',\n '5',\n ' ',\n '-',\n '0',\n '.',\n '3',\n '1',\n ' ',\n ' ',\n '-',\n '0',\n '.',\n '3',\n '0',\n '5',\n ' ',\n '-',\n '0',\n '.',\n '3',\n '0',\n '5',\n '\\n',\n ' ',\n '-',\n '0',\n '.',\n '3',\n '1',\n ' ',\n ' ',\n '-',\n '0',\n '.',\n '3',\n ' ',\n ' ',\n ' ',\n '-',\n '0',\n '.',\n '3',\n '0',\n '5',\n ' ',\n '-',\n '0',\n '.',\n '2',\n '9',\n ' ',\n ' ',\n '-',\n '0',\n '.',\n '3',\n ' ',\n ' ',\n ' ',\n '-',\n '0',\n '.',\n '3',\n ' ',\n ' ',\n ' ',\n '-',\n '0',\n '.',\n '3',\n '0',\n '5',\n ' ',\n '-',\n '0',\n '.',\n '3',\n '0',\n '5',\n ' ',\n '-',\n '0',\n '.',\n '2',\n '9',\n ' ',\n ' ',\n '-',\n '0',\n '.',\n '2',\n '8',\n '\\n',\n ' ',\n '-',\n '0',\n '.',\n '2',\n '9',\n '5',\n ' ',\n '-',\n '0',\n '.',\n '3',\n '0',\n '5',\n ' ',\n '-',\n '0',\n '.',\n '3',\n '1',\n '5',\n ' ',\n '-',\n '0',\n '.',\n '3',\n '0',\n '5',\n ' ',\n '-',\n '0',\n '.',\n '2',\n '9',\n '5',\n ' ',\n '-',\n '0',\n '.',\n '2',\n '9',\n ' ',\n ' ',\n '-',\n '0',\n '.',\n '2',\n '8',\n ' ',\n ' ',\n '-',\n '0',\n '.',\n '2',\n '7',\n ' ',\n ' ',\n '-',\n '0',\n '.',\n '2',\n '7',\n '5',\n ' ',\n '-',\n '0',\n '.',\n '2',\n '7',\n '5',\n '\\n',\n ' ',\n '-',\n '0',\n '.',\n '2',\n '7',\n ' ',\n ' ',\n '-',\n '0',\n '.',\n '2',\n '5',\n ' ',\n ' ',\n '-',\n '0',\n '.',\n '2',\n '5',\n ' ',\n ' ',\n '-',\n '0',\n '.',\n '2',\n '5',\n '5',\n ' ',\n '-',\n '0',\n '.',\n '2',\n '2',\n '5',\n ' ',\n '-',\n '0',\n '.',\n '2',\n '2',\n ' ',\n ' ',\n '-',\n '0',\n '.',\n '2',\n '0',\n '5',\n ' ',\n '-',\n '0',\n '.',\n '2',\n ' ',\n ' ',\n ' ',\n '-',\n '0',\n '.',\n '2',\n '0',\n '5',\n ' ',\n '-',\n '0',\n '.',\n '2',\n '1',\n '5',\n '\\n',\n ' ',\n '-',\n '0',\n '.',\n '2',\n '3',\n ' ',\n ' ',\n '-',\n '0',\n '.',\n '2',\n '2',\n ' ',\n ' ',\n '-',\n '0',\n '.',\n '2',\n '2',\n '5',\n ' ',\n '-',\n '0',\n '.',\n '2',\n '2',\n '5',\n ' ',\n '-',\n '0',\n '.',\n '2',\n '2',\n '5',\n ' ',\n '-',\n '0',\n '.',\n '2',\n '3',\n ' ',\n ' ',\n '-',\n '0',\n '.',\n '2',\n '3',\n '5',\n ' ',\n '-',\n '0',\n '.',\n '2',\n '4',\n ' ',\n ' ',\n '-',\n '0',\n '.',\n '2',\n '3',\n '5',\n ' ',\n '-',\n '0',\n '.',\n '2',\n '2',\n '\\n',\n ' ',\n '-',\n '0',\n '.',\n '2',\n '1',\n ' ',\n ' ',\n '-',\n '0',\n '.',\n '2',\n '0',\n '5',\n ' ',\n '-',\n '0',\n '.',\n '2',\n '4',\n '5',\n ' ',\n '-',\n '0',\n '.',\n '2',\n '8',\n '5',\n ' ',\n '-',\n '0',\n '.',\n '2',\n '8',\n '5',\n ' ',\n '-',\n '0',\n '.',\n '3',\n ' ',\n ' ',\n ' ',\n '-',\n '0',\n '.',\n '3',\n '1',\n ' ',\n ' ',\n '-',\n '0',\n '.',\n '3',\n '3',\n ' ',\n ' ',\n '-',\n '0',\n '.',\n '3',\n '3',\n ' ',\n ' ',\n '-',\n '0',\n '.',\n '3',\n '2',\n '5',\n '\\n',\n ' ',\n '-',\n '0',\n '.',\n '3',\n '1',\n '5',\n ' ',\n '-',\n '0',\n '.',\n '3',\n '2',\n ' ',\n ' ',\n '-',\n '0',\n '.',\n '3',\n '1',\n '5',\n ' ',\n '-',\n '0',\n '.',\n '3',\n '2',\n '5',\n ' ',\n '-',\n '0',\n '.',\n '3',\n '4',\n ' ',\n ' ',\n '-',\n '0',\n '.',\n '3',\n '4',\n '5',\n ' ',\n '-',\n '0',\n '.',\n '3',\n '4',\n ' ',\n ' ',\n '-',\n '0',\n '.',\n '3',\n '4',\n ' ',\n ' ',\n '-',\n '0',\n '.',\n '3',\n '5',\n ' ',\n ' ',\n '-',\n '0',\n '.',\n '3',\n '4',\n '5',\n '\\n',\n ' ',\n '-',\n '0',\n '.',\n '3',\n '5',\n '5',\n ' ',\n '-',\n '0',\n '.',\n '3',\n '3',\n ' ',\n ' ',\n '-',\n '0',\n '.',\n '3',\n '3',\n '5',\n ' ',\n '-',\n '0',\n '.',\n '3',\n '3',\n ' ',\n ' ',\n '-',\n '0',\n '.',\n '3',\n '2',\n ' ',\n ' ',\n '-',\n '0',\n '.',\n '3',\n '4',\n '5',\n ' ',\n '-',\n '0',\n '.',\n '3',\n '5',\n '5',\n ' ',\n '-',\n '0',\n '.',\n '3',\n '4',\n ' ',\n ' ',\n '-',\n '0',\n '.',\n '3',\n '3',\n ' ',\n ' ',\n '-',\n '0',\n '.',\n '3',\n '2',\n '5',\n '\\n',\n ' ',\n '-',\n '0',\n '.',\n '3',\n '3',\n ' ',\n ' ',\n '-',\n '0',\n '.',\n '3',\n '5',\n ' ',\n ' ',\n '-',\n '0',\n '.',\n '3',\n '6',\n '5',\n ' ',\n '-',\n '0',\n '.',\n '3',\n '6',\n ' ',\n ' ',\n '-',\n '0',\n '.',\n '3',\n '8',\n ' ',\n ' ',\n '-',\n '0',\n '.',\n '4',\n '2',\n '5',\n ' ',\n '-',\n '0',\n '.',\n '4',\n '4',\n '5',\n ' ',\n '-',\n '0',\n '.',\n '4',\n '7',\n '5',\n ' ',\n '-',\n '0',\n '.',\n '5',\n '1',\n ' ',\n ' ',\n '-',\n '0',\n '.',\n '5',\n '3',\n '5',\n '\\n',\n ' ',\n '-',\n '0',\n '.',\n '5',\n '0',\n '5',\n ' ',\n '-',\n '0',\n '.',\n '4',\n '1',\n ...]"
     },
     "execution_count": 9,
     "metadata": {},
     "output_type": "execute_result"
    }
   ],
   "source": [
    "list(df['signal'][0])"
   ],
   "metadata": {
    "collapsed": false
   }
  },
  {
   "cell_type": "code",
   "execution_count": null,
   "outputs": [],
   "source": [],
   "metadata": {
    "collapsed": false
   }
  }
 ],
 "metadata": {
  "kernelspec": {
   "display_name": "Python 3",
   "language": "python",
   "name": "python3"
  },
  "language_info": {
   "codemirror_mode": {
    "name": "ipython",
    "version": 3
   },
   "file_extension": ".py",
   "mimetype": "text/x-python",
   "name": "python",
   "nbconvert_exporter": "python",
   "pygments_lexer": "ipython3",
   "version": "3.8.8"
  }
 },
 "nbformat": 4,
 "nbformat_minor": 5
}
